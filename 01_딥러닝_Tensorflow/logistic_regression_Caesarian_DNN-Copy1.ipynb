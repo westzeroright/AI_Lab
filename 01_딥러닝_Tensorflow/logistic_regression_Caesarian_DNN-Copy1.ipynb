{
 "cells": [
  {
   "cell_type": "code",
   "execution_count": 1,
   "id": "2379cee0",
   "metadata": {},
   "outputs": [],
   "source": [
    "import tensorflow as tf\n",
    "import numpy as np\n",
    "tf.random.set_seed(5)"
   ]
  },
  {
   "cell_type": "code",
   "execution_count": 2,
   "id": "b3c81501",
   "metadata": {},
   "outputs": [
    {
     "name": "stdout",
     "output_type": "stream",
     "text": [
      "(56, 5) (56, 1)\n",
      "(24, 5) (24, 1)\n"
     ]
    }
   ],
   "source": [
    "# 데이터 불러오기\n",
    "xy = np.loadtxt('caesarian.csv', delimiter=',', dtype=np.float32)\n",
    "xy.shape # (80,6)\n",
    "\n",
    "#학습용 데이터 분리 : 70%, 56개\n",
    "x_train = xy[:56,:-1]\n",
    "y_train = xy[:56,[-1]]\n",
    "print(x_train.shape, y_train.shape)\n",
    "\n",
    "#검증용 데이터 분리 : 30%, 24개\n",
    "x_test = xy[56:,:-1]\n",
    "y_test = xy[56:,[-1]]\n",
    "print(x_test.shape, y_test.shape)"
   ]
  },
  {
   "cell_type": "code",
   "execution_count": 3,
   "id": "f40f6750",
   "metadata": {},
   "outputs": [],
   "source": [
    "# 변수 초기화 : weight, bias\n",
    "# (56,5) * (5,1) = (56,1)\n",
    "\n",
    "# Layer  1\n",
    "W1 = tf.Variable(tf.random.normal([5,5]), name='weight1')\n",
    "b1 = tf.Variable(tf.random.normal([5]), name='bias1')\n",
    "\n",
    "def layer1(X):\n",
    "    return  tf.nn.relu(tf.matmul(X,W1) + b1 )\n",
    "\n",
    "# layer 2\n",
    "W2 = tf.Variable(tf.random.normal([5,5]), name='weight2')\n",
    "b2 = tf.Variable(tf.random.normal([5]), name='bias2')\n",
    "\n",
    "def layer2(X):\n",
    "    return  tf.nn.relu(tf.matmul(layer1(X),W2) + b2 )"
   ]
  },
  {
   "cell_type": "code",
   "execution_count": 4,
   "id": "f068c144",
   "metadata": {},
   "outputs": [],
   "source": [
    "# layer 3\n",
    "W3 = tf.Variable(tf.random.normal([5,1]), name='weight3')\n",
    "b3 = tf.Variable(tf.random.normal([1]), name='bias3')\n",
    "\n",
    "# hypothesis 예측 함수(방정식) : 활성화 함수 사용\n",
    "\n",
    "def hypothesis(X):\n",
    "    return  tf.sigmoid(tf.matmul(layer2(X),W3) + b3)"
   ]
  },
  {
   "cell_type": "code",
   "execution_count": 5,
   "id": "1bf351ca",
   "metadata": {},
   "outputs": [],
   "source": [
    "# 비용 함수 : logloss, 2진분류모델\n",
    "def cost_func():\n",
    "    cost = -tf.reduce_mean(y_train*tf.math.log(hypothesis(x_train)) +\n",
    "                          (1 - y_train)*tf.math.log(1-hypothesis(x_train)))\n",
    "    return cost"
   ]
  },
  {
   "cell_type": "code",
   "execution_count": 6,
   "id": "70f3a6f7",
   "metadata": {},
   "outputs": [],
   "source": [
    "# 경사 하강법\n",
    "# learning_rate(학습율)을 0.01 로 설정하여 optimizer객체를 생성\n",
    "optimizer = tf.keras.optimizers.Adam(learning_rate=0.01)"
   ]
  },
  {
   "cell_type": "code",
   "execution_count": 8,
   "id": "1991e280",
   "metadata": {},
   "outputs": [
    {
     "name": "stdout",
     "output_type": "stream",
     "text": [
      "***** Start Learning!!\n",
      "0000 cost:[ 1.5653288 ]\n",
      "1000 cost:[ 0.529152 ]\n",
      "2000 cost:[ 0.52915204 ]\n",
      "3000 cost:[ 0.52915233 ]\n",
      "4000 cost:[ 0.5291521 ]\n",
      "5000 cost:[ 0.52915627 ]\n",
      "6000 cost:[ 0.5291521 ]\n",
      "7000 cost:[ 0.52915704 ]\n",
      "8000 cost:[ 0.52924836 ]\n",
      "9000 cost:[ 0.5291521 ]\n",
      "10000 cost:[ 0.51462835 ]\n",
      "***** Learning Finished!!\n"
     ]
    }
   ],
   "source": [
    "# 학습 시작\n",
    "print('***** Start Learning!!')\n",
    "for step in range(10001):\n",
    "    optimizer.minimize(cost_func,var_list=[W1,b1,W2,b2,W3,b3])\n",
    "    if step % 1000 == 0:\n",
    "        print('%04d'%step,'cost:[',cost_func().numpy(),']')\n",
    "print('***** Learning Finished!!') "
   ]
  },
  {
   "cell_type": "code",
   "execution_count": 9,
   "id": "f9a897c7",
   "metadata": {},
   "outputs": [
    {
     "name": "stdout",
     "output_type": "stream",
     "text": [
      "Weight: [[-0.18030666 -0.95028627  0.10338575 -0.7425406   0.6312511 ]\n",
      " [-0.61854804  0.8540664  -0.18561582  2.4488697   0.26963028]\n",
      " [ 1.2659615   0.9801489   0.6239407  -0.57500345  0.73397756]\n",
      " [-1.250801   -0.8604956  -0.05618201 -0.6830498   2.6918623 ]\n",
      " [ 0.22328745  0.95914024 -4.770169    0.03484769  2.3786542 ]]\n",
      "Bias: [ 0.22652863  0.8106553   2.2387717   0.7749703  -1.7160287 ]\n",
      "Weight: [[ 1.4665463e+00 -1.0248139e+00  8.6743289e-01 -2.2424309e+00\n",
      "   8.9757569e-02]\n",
      " [-1.1256858e-01 -1.6262239e-01 -3.1064131e-04 -2.0654018e+00\n",
      "   9.5980637e-02]\n",
      " [-1.1647935e+00 -1.2245797e+00 -1.6130395e+00  1.0445720e+00\n",
      "  -2.2368014e+00]\n",
      " [ 1.2274351e+00 -2.1617559e-01 -2.1591003e+00  8.7623733e-01\n",
      "  -1.4944816e-01]\n",
      " [-1.0972142e+00  5.9008455e-01 -3.7323128e-02  1.4530313e+00\n",
      "   7.2161210e-01]]\n",
      "Bias: [ 0.03700283  0.22317614 -0.41550454 -0.43046167 -0.74900895]\n",
      "Weight: [[-1.2405608 ]\n",
      " [ 1.966618  ]\n",
      " [ 2.3377132 ]\n",
      " [-0.27791604]\n",
      " [-0.9760558 ]]\n",
      "Bias: [-0.36724207]\n"
     ]
    }
   ],
   "source": [
    "# weight과 bias 출력\n",
    "print('Weight:',W1.numpy())\n",
    "print('Bias:',b1.numpy())\n",
    "print('Weight:',W2.numpy())\n",
    "print('Bias:',b2.numpy())\n",
    "print('Weight:',W3.numpy())\n",
    "print('Bias:',b3.numpy())"
   ]
  },
  {
   "cell_type": "code",
   "execution_count": 10,
   "id": "2f458a65",
   "metadata": {},
   "outputs": [
    {
     "name": "stdout",
     "output_type": "stream",
     "text": [
      "Accuracy: 0.41666666\n"
     ]
    }
   ],
   "source": [
    "# 평가 : 정확도(accuracy)\n",
    "def predict(X):\n",
    "    return tf.cast(hypothesis(X) > 0.5 ,dtype=tf.float32)\n",
    "\n",
    "# 예측\n",
    "preds = predict(x_test)   \n",
    "\n",
    "# 정확도\n",
    "accuracy = tf.reduce_mean(tf.cast(tf.equal(preds,y_test),dtype=tf.float32))\n",
    "print('Accuracy:',accuracy.numpy())\n",
    "# print('Hypothesis:\\n',hypothesis(x_test).numpy())\n",
    "# print('Predict:\\n',preds.numpy())"
   ]
  },
  {
   "cell_type": "code",
   "execution_count": null,
   "id": "7b1d73f0",
   "metadata": {},
   "outputs": [],
   "source": []
  }
 ],
 "metadata": {
  "kernelspec": {
   "display_name": "Python 3 (ipykernel)",
   "language": "python",
   "name": "python3"
  },
  "language_info": {
   "codemirror_mode": {
    "name": "ipython",
    "version": 3
   },
   "file_extension": ".py",
   "mimetype": "text/x-python",
   "name": "python",
   "nbconvert_exporter": "python",
   "pygments_lexer": "ipython3",
   "version": "3.9.12"
  }
 },
 "nbformat": 4,
 "nbformat_minor": 5
}
