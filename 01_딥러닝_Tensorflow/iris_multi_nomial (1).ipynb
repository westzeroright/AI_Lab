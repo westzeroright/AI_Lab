{
 "cells": [
  {
   "cell_type": "code",
   "execution_count": 1,
   "id": "5e347436",
   "metadata": {},
   "outputs": [],
   "source": [
    "import tensorflow as tf\n",
    "import numpy as np\n",
    "tf.random.set_seed(5)"
   ]
  },
  {
   "cell_type": "code",
   "execution_count": 2,
   "id": "8a9c7270",
   "metadata": {},
   "outputs": [
    {
     "name": "stderr",
     "output_type": "stream",
     "text": [
      "C:\\Users\\kt826\\AppData\\Local\\Temp\\ipykernel_31976\\2618972588.py:4: DeprecationWarning: `np.str` is a deprecated alias for the builtin `str`. To silence this warning, use `str` by itself. Doing this will not modify any behavior and is safe. If you specifically wanted the numpy scalar type, use `np.str_` here.\n",
      "Deprecated in NumPy 1.20; for more details and guidance: https://numpy.org/devdocs/release/1.20.0-notes.html#deprecations\n",
      "  xy = np.loadtxt('iris.csv',delimiter=',',dtype=np.str,skiprows=1)\n"
     ]
    },
    {
     "data": {
      "text/plain": [
       "(45, 1)"
      ]
     },
     "execution_count": 2,
     "metadata": {},
     "output_type": "execute_result"
    }
   ],
   "source": [
    "# 데이터 불러 오기\n",
    "species_list =['\"setosa\"','\"versicolor\"','\"virginica\"']\n",
    "\n",
    "xy = np.loadtxt('iris.csv',delimiter=',',dtype=np.str,skiprows=1)\n",
    "xy.shape\n",
    "\n",
    "x_train = np.float32(xy[:35,1:-1])\n",
    "y_train = xy[:35,[-1]]\n",
    "x_test = np.float32(xy[35:50,1:-1])\n",
    "y_test = xy[35:50,[-1]]\n",
    "\n",
    "x_train = np.append(x_train , np.float32(xy[50:85,1:-1]),axis= 0)\n",
    "x_train = np.append(x_train , np.float32(xy[100:135,1:-1]),axis= 0)\n",
    "y_train = np.append(y_train , xy[50:85,[-1]],axis= 0)\n",
    "y_train = np.append(y_train , xy[100:135,[-1]],axis= 0)\n",
    "x_train.shape\n",
    "y_train.shape\n",
    "\n",
    "x_test = np.append(x_test, np.float32(xy[85:100,1:-1]),axis=0)\n",
    "x_test = np.append(x_test, np.float32(xy[135:150,1:-1]),axis=0)\n",
    "y_test = np.append(y_test, xy[85:100,[-1]],axis=0)\n",
    "y_test = np.append(y_test, xy[135:150,[-1]],axis=0)\n",
    "x_test.shape\n",
    "y_test.shape"
   ]
  },
  {
   "cell_type": "code",
   "execution_count": 3,
   "id": "ce05ddad",
   "metadata": {},
   "outputs": [
    {
     "name": "stdout",
     "output_type": "stream",
     "text": [
      "[['0']\n",
      " ['0']\n",
      " ['0']\n",
      " ['0']\n",
      " ['0']\n",
      " ['0']\n",
      " ['0']\n",
      " ['0']\n",
      " ['0']\n",
      " ['0']\n",
      " ['0']\n",
      " ['0']\n",
      " ['0']\n",
      " ['0']\n",
      " ['0']\n",
      " ['0']\n",
      " ['0']\n",
      " ['0']\n",
      " ['0']\n",
      " ['0']\n",
      " ['0']\n",
      " ['0']\n",
      " ['0']\n",
      " ['0']\n",
      " ['0']\n",
      " ['0']\n",
      " ['0']\n",
      " ['0']\n",
      " ['0']\n",
      " ['0']\n",
      " ['0']\n",
      " ['0']\n",
      " ['0']\n",
      " ['0']\n",
      " ['0']\n",
      " ['1']\n",
      " ['1']\n",
      " ['1']\n",
      " ['1']\n",
      " ['1']\n",
      " ['1']\n",
      " ['1']\n",
      " ['1']\n",
      " ['1']\n",
      " ['1']\n",
      " ['1']\n",
      " ['1']\n",
      " ['1']\n",
      " ['1']\n",
      " ['1']\n",
      " ['1']\n",
      " ['1']\n",
      " ['1']\n",
      " ['1']\n",
      " ['1']\n",
      " ['1']\n",
      " ['1']\n",
      " ['1']\n",
      " ['1']\n",
      " ['1']\n",
      " ['1']\n",
      " ['1']\n",
      " ['1']\n",
      " ['1']\n",
      " ['1']\n",
      " ['1']\n",
      " ['1']\n",
      " ['1']\n",
      " ['1']\n",
      " ['1']\n",
      " ['2']\n",
      " ['2']\n",
      " ['2']\n",
      " ['2']\n",
      " ['2']\n",
      " ['2']\n",
      " ['2']\n",
      " ['2']\n",
      " ['2']\n",
      " ['2']\n",
      " ['2']\n",
      " ['2']\n",
      " ['2']\n",
      " ['2']\n",
      " ['2']\n",
      " ['2']\n",
      " ['2']\n",
      " ['2']\n",
      " ['2']\n",
      " ['2']\n",
      " ['2']\n",
      " ['2']\n",
      " ['2']\n",
      " ['2']\n",
      " ['2']\n",
      " ['2']\n",
      " ['2']\n",
      " ['2']\n",
      " ['2']\n",
      " ['2']\n",
      " ['2']\n",
      " ['2']\n",
      " ['2']\n",
      " ['2']\n",
      " ['2']]\n",
      "[['0']\n",
      " ['0']\n",
      " ['0']\n",
      " ['0']\n",
      " ['0']\n",
      " ['0']\n",
      " ['0']\n",
      " ['0']\n",
      " ['0']\n",
      " ['0']\n",
      " ['0']\n",
      " ['0']\n",
      " ['0']\n",
      " ['0']\n",
      " ['0']\n",
      " ['1']\n",
      " ['1']\n",
      " ['1']\n",
      " ['1']\n",
      " ['1']\n",
      " ['1']\n",
      " ['1']\n",
      " ['1']\n",
      " ['1']\n",
      " ['1']\n",
      " ['1']\n",
      " ['1']\n",
      " ['1']\n",
      " ['1']\n",
      " ['1']\n",
      " ['2']\n",
      " ['2']\n",
      " ['2']\n",
      " ['2']\n",
      " ['2']\n",
      " ['2']\n",
      " ['2']\n",
      " ['2']\n",
      " ['2']\n",
      " ['2']\n",
      " ['2']\n",
      " ['2']\n",
      " ['2']\n",
      " ['2']\n",
      " ['2']]\n"
     ]
    }
   ],
   "source": [
    "# 슬라이싱 완료 후\n",
    "for i in range(105):\n",
    "    y_train[i,-1] = np.int32(species_list.index(y_train[i,-1]))\n",
    "print(y_train)\n",
    "\n",
    "for i in range(45):\n",
    "    y_test[i,-1] = np.int32(species_list.index(y_test[i,-1]))\n",
    "print(y_test)"
   ]
  },
  {
   "cell_type": "code",
   "execution_count": 4,
   "id": "db76a99f",
   "metadata": {},
   "outputs": [
    {
     "name": "stdout",
     "output_type": "stream",
     "text": [
      "(105, 1, 3)\n",
      "(105, 3)\n"
     ]
    }
   ],
   "source": [
    "nb_classes = 3 \n",
    "\n",
    "Y_one_hot = tf.one_hot(y_train,nb_classes)  \n",
    "print(Y_one_hot.shape)                     \n",
    "Y_one_hot = tf.reshape(Y_one_hot,[-1,nb_classes])\n",
    "print(Y_one_hot.shape)                    "
   ]
  },
  {
   "cell_type": "code",
   "execution_count": 5,
   "id": "c2ed913e",
   "metadata": {},
   "outputs": [
    {
     "name": "stdout",
     "output_type": "stream",
     "text": [
      "<tf.Variable 'weight:0' shape=(4, 3) dtype=float32, numpy=\n",
      "array([[-0.18030666, -0.95028627, -0.03964049],\n",
      "       [-0.7425406 ,  1.3231523 , -0.61854804],\n",
      "       [ 0.8540664 , -0.08899953,  2.4488697 ],\n",
      "       [ 0.762508  ,  1.2659615 ,  0.9801489 ]], dtype=float32)>\n",
      "<tf.Variable 'bias:0' shape=(3,) dtype=float32, numpy=array([0.22652863, 0.8106553 , 0.7466094 ], dtype=float32)>\n"
     ]
    }
   ],
   "source": [
    "# 변수 초기화 : weight, bias\n",
    "# (m,n) * (n,l) = (m,l)   : 행렬의 내적 곱셈 공식\n",
    "# (105,4) * (4,1) = (105,1)\n",
    "W = tf.Variable(tf.random.normal([4,nb_classes]),name='weight')\n",
    "b = tf.Variable(tf.random.normal([nb_classes]),name='bias')\n",
    "print(W)\n",
    "print(b)"
   ]
  },
  {
   "cell_type": "code",
   "execution_count": 6,
   "id": "f280f58c",
   "metadata": {},
   "outputs": [],
   "source": [
    "# 예측 함수(hypothesis) : H(X) = softmax(X*W + B)\n",
    "def logits(X):\n",
    "    return tf.matmul(X,W) + b\n",
    "\n",
    "def hypothesis(X):\n",
    "    return tf.nn.softmax(logits(X))  "
   ]
  },
  {
   "cell_type": "code",
   "execution_count": 7,
   "id": "7d7f9919",
   "metadata": {},
   "outputs": [],
   "source": [
    "#  비용함수 구현 방법 2 : tf.nn.softmax_cross_entropy_with_logits() 함수 사용\n",
    "def cost_func():\n",
    "    cost_i = tf.nn.softmax_cross_entropy_with_logits(logits=logits(x_train),\n",
    "                                                    labels=Y_one_hot)\n",
    "    cost = tf.reduce_mean(cost_i)\n",
    "    return cost"
   ]
  },
  {
   "cell_type": "code",
   "execution_count": 8,
   "id": "04b5d5ed",
   "metadata": {},
   "outputs": [],
   "source": [
    "# 경사 하강법\n",
    "# learning_rate(학습율)을 0.01 로 설정하여 optimizer객체를 생성\n",
    "optimizer = tf.keras.optimizers.Adam(learning_rate=0.01)"
   ]
  },
  {
   "cell_type": "code",
   "execution_count": 9,
   "id": "1ef3e70f",
   "metadata": {},
   "outputs": [
    {
     "name": "stdout",
     "output_type": "stream",
     "text": [
      "***** Start Learning!!\n",
      "0000 cost:[ 4.8165736 ]\n",
      "1000 cost:[ 0.17111711 ]\n",
      "2000 cost:[ 0.105702765 ]\n",
      "3000 cost:[ 0.08209269 ]\n",
      "4000 cost:[ 0.07013071 ]\n",
      "5000 cost:[ 0.06308728 ]\n",
      "***** Learning Finished!!\n"
     ]
    }
   ],
   "source": [
    "# 학습 시작\n",
    "print('***** Start Learning!!')\n",
    "for step in range(5001):\n",
    "    optimizer.minimize(cost_func,var_list=[W,b])\n",
    "    if step % 1000 == 0:\n",
    "        print('%04d'%step,'cost:[',cost_func().numpy(),']')\n",
    "print('***** Learning Finished!!') "
   ]
  },
  {
   "cell_type": "code",
   "execution_count": 10,
   "id": "e0fbeba9",
   "metadata": {},
   "outputs": [
    {
     "name": "stdout",
     "output_type": "stream",
     "text": [
      "(45, 1, 3)\n",
      "(45, 3)\n",
      "Accuracy: 1.0\n"
     ]
    }
   ],
   "source": [
    "# 정확도 측정(평가)\n",
    "\n",
    "# y_test값을 one-hot인코딩\n",
    "Y_one_hot = tf.one_hot(y_test,nb_classes)  \n",
    "print(Y_one_hot.shape)                     \n",
    "Y_one_hot = tf.reshape(Y_one_hot,[-1,nb_classes])\n",
    "print(Y_one_hot.shape)\n",
    "\n",
    "def predict(X):\n",
    "    return tf.argmax(hypothesis(X),axis=1)\n",
    "\n",
    "correct_predict = tf.equal(predict(x_test),tf.argmax(Y_one_hot,1))\n",
    "accuracy = tf.reduce_mean(tf.cast(correct_predict,dtype=tf.float32))\n",
    "print('Accuracy:',accuracy.numpy())  # Accuracy: 0.8064516"
   ]
  },
  {
   "cell_type": "code",
   "execution_count": null,
   "id": "03d8c547",
   "metadata": {},
   "outputs": [],
   "source": []
  }
 ],
 "metadata": {
  "kernelspec": {
   "display_name": "Python 3 (ipykernel)",
   "language": "python",
   "name": "python3"
  },
  "language_info": {
   "codemirror_mode": {
    "name": "ipython",
    "version": 3
   },
   "file_extension": ".py",
   "mimetype": "text/x-python",
   "name": "python",
   "nbconvert_exporter": "python",
   "pygments_lexer": "ipython3",
   "version": "3.9.12"
  }
 },
 "nbformat": 4,
 "nbformat_minor": 5
}
