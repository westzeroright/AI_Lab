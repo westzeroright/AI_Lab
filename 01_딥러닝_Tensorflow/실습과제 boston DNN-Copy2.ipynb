{
 "cells": [
  {
   "cell_type": "code",
   "execution_count": 1,
   "id": "fd56b685",
   "metadata": {},
   "outputs": [],
   "source": [
    "import tensorflow as tf\n",
    "import numpy as np\n",
    "tf.random.set_seed(5)"
   ]
  },
  {
   "cell_type": "code",
   "execution_count": 2,
   "id": "d14fca67",
   "metadata": {},
   "outputs": [
    {
     "name": "stdout",
     "output_type": "stream",
     "text": [
      "(400, 9) (400, 1)\n",
      "(100, 9) (100, 1)\n"
     ]
    }
   ],
   "source": [
    "# 데이터 불러 오기\n",
    "xy_train = np.loadtxt('boston_train.csv',delimiter=',',skiprows=1, dtype=np.float32)\n",
    "xy_test = np.loadtxt('boston_test.csv',delimiter=',',skiprows=1, dtype=np.float32)\n",
    "\n",
    "# X,Y\n",
    "x_train = xy_train[:,:-1]  # X, 마지막 컬럼을 제외\n",
    "y_train = xy_train[:,[-1]] # Y, 마지막 컬럼만 2차원으로 추출\n",
    "x_test = xy_test[:,:-1]  \n",
    "y_test = xy_test[:,[-1]]\n",
    "print(x_train.shape,y_train.shape)\n",
    "print(x_test.shape,y_test.shape)"
   ]
  },
  {
   "cell_type": "code",
   "execution_count": 3,
   "id": "5d927969",
   "metadata": {},
   "outputs": [],
   "source": [
    "\n",
    "# (400,9) * (9,1) = (400,1)\n",
    "# Layer  1\n",
    "W1 = tf.Variable(tf.random.normal([9,9]), name='weight1')\n",
    "b1 = tf.Variable(tf.random.normal([9]), name='bias1')\n",
    "\n",
    "def layer1(X):\n",
    "    return  tf.nn.relu(tf.matmul(X,W1) + b1 )\n",
    "\n",
    "# layer 2\n",
    "W2 = tf.Variable(tf.random.normal([9,9]), name='weight2')\n",
    "b2 = tf.Variable(tf.random.normal([9]), name='bias2')\n",
    "\n",
    "def layer2(X):\n",
    "    return  tf.nn.relu(tf.matmul(layer1(X),W2) + b2 )"
   ]
  },
  {
   "cell_type": "code",
   "execution_count": 4,
   "id": "80350577",
   "metadata": {},
   "outputs": [],
   "source": [
    "# layer 3\n",
    "W3 = tf.Variable(tf.random.normal([9,1]), name='weight3')\n",
    "b3 = tf.Variable(tf.random.normal([1]), name='bias3')\n",
    "\n",
    "# hypothesis 예측 함수(방정식) : 활성화 함수 사용\n",
    "\n",
    "def hypothesis(X):\n",
    "    return tf.matmul(layer2(X),W3) + b3\n"
   ]
  },
  {
   "cell_type": "code",
   "execution_count": 5,
   "id": "1c2c2a36",
   "metadata": {},
   "outputs": [],
   "source": [
    "# 비용 함수 : (Hx - y)^2 의 평균\n",
    "# tf.square()      : 제곱\n",
    "# tf.reduce_mean() : 합의 평균\n",
    "def cost_func():\n",
    "    cost = tf.reduce_mean(tf.square(hypothesis(x_train) - y_train))\n",
    "    return cost"
   ]
  },
  {
   "cell_type": "code",
   "execution_count": 6,
   "id": "993d8e65",
   "metadata": {},
   "outputs": [],
   "source": [
    "# 경사 하강법\n",
    "# optimizer = tf.compat.v1.train.GradientDescentOptimizer(learning_rate=0.01)\n",
    "# optimizer = tf.compat.v1.train.AdamOptimizer(learning_rate=0.01)\n",
    "optimizer = tf.keras.optimizers.Adam(learning_rate=0.01)"
   ]
  },
  {
   "cell_type": "code",
   "execution_count": 7,
   "id": "75d1f86e",
   "metadata": {},
   "outputs": [
    {
     "name": "stdout",
     "output_type": "stream",
     "text": [
      "***** Start Learning!!\n",
      "0000 cost:[ 127287.0 ]\n",
      "1000 cost:[ 102.720215 ]\n",
      "2000 cost:[ 63.86542 ]\n",
      "3000 cost:[ 53.446327 ]\n",
      "4000 cost:[ 32.672157 ]\n",
      "5000 cost:[ 31.545088 ]\n",
      "6000 cost:[ 30.80547 ]\n",
      "7000 cost:[ 29.611147 ]\n",
      "8000 cost:[ 29.138565 ]\n",
      "9000 cost:[ 29.922016 ]\n",
      "10000 cost:[ 28.638453 ]\n",
      "***** Learning Finished!!\n"
     ]
    }
   ],
   "source": [
    "# 학습 시작\n",
    "print('***** Start Learning!!')\n",
    "for step in range(10001):\n",
    "    optimizer.minimize(cost_func,var_list=[W1,b1,W2,b2,W3,b3])\n",
    "    if step % 1000 == 0:\n",
    "        print('%04d'%step,'cost:[',cost_func().numpy(),']')\n",
    "print('***** Learning Finished!!') "
   ]
  },
  {
   "cell_type": "code",
   "execution_count": 9,
   "id": "69859960",
   "metadata": {},
   "outputs": [
    {
     "name": "stdout",
     "output_type": "stream",
     "text": [
      "Weight: [[ 0.43529743 -1.1668229  -0.14033133 -0.7425406   1.3231523  -0.61854804\n",
      "   0.8540664  -0.7144107   2.4488697 ]\n",
      " [ 0.42267197  0.8652391   0.86610377  1.5293121  -0.57500345  0.8987044\n",
      "  -1.250801    0.586284    1.260746  ]\n",
      " [-0.06519584 -0.21462451  0.12093794  0.95914024 -0.37048063  0.03484769\n",
      "   0.13794525 -0.09547867  0.4640491 ]\n",
      " [ 2.0940769  -2.8777087   1.0264499  -0.91330576  0.74427116 -0.67893195\n",
      "  -0.83569556  7.3969736  -0.9336107 ]\n",
      " [ 2.058173    0.364963    1.9045125  -1.4186655  -0.90990627  1.1692344\n",
      "  -0.1118804  -5.451167   -1.4201527 ]\n",
      " [-1.4472451  -0.81938136 -0.2693994   0.18945342  0.9961622  -2.0208204\n",
      "  -2.8400812  -0.52322924 -1.9945853 ]\n",
      " [ 2.7655113  -0.57752347  0.8789402  -0.34762594 -0.10890402 -1.2663026\n",
      "   0.9700548   0.65831965 -0.526593  ]\n",
      " [ 0.2172608   0.4749694  -0.49536213 -0.7860489  -1.7999878  -1.5483241\n",
      "  -2.0070124   0.3367411  -0.2937632 ]\n",
      " [-0.80677307  0.23631701 -0.69556516 -1.1852797  -0.37312365 -1.1413692\n",
      "   0.5026758   0.9391174   0.38021109]]\n",
      "Bias: [ 0.25420368  0.62503135  0.634699    0.7749703   0.72448725  1.4217405\n",
      " -0.08917825  0.47114202 -1.0210733 ]\n",
      "Weight: [[ 1.4308211  -1.0248139   0.8674329  -2.242431    0.03930994 -0.11256858\n",
      "  -0.13921687  1.2197288  -2.0654018 ]\n",
      " [ 0.2803991  -1.1647935  -0.59716773 -1.6130395   0.73056215 -2.115682\n",
      "   1.0354824   0.22674194 -2.1591003 ]\n",
      " [ 0.76842064 -0.14944816 -1.0972142   0.44351053 -0.1527641   1.6468747\n",
      "   0.68606293  2.0513594   0.4830363 ]\n",
      " [-0.6581406   0.5300417   0.2152487  -0.27115622  2.0796478  -0.5180025\n",
      "  -1.4942013   2.1573405  -0.11611416]\n",
      " [-0.46572775  1.084973    2.587274    2.574612    1.0033166  -1.6337352\n",
      "   1.0855117   1.0968823  -0.21023099]\n",
      " [ 0.35354766 -0.23794948 -1.782247   -0.25174743  0.43639755 -0.67254215\n",
      "   0.6432382  -0.14475007  0.7487351 ]\n",
      " [-0.5643545  -0.23753165 -0.50351924 -0.79649466  0.79801893  0.9891877\n",
      "  -1.2322617   0.32095551 -0.92099285]\n",
      " [ 0.337992   -0.92762667 -0.9279643  -1.1979411   0.652089    0.52382386\n",
      "   0.16497193 -0.44029817  0.01446865]\n",
      " [-0.28970483  0.5113853   1.6570009  -0.24812719 -0.05475209  0.7534941\n",
      "   0.00424468  0.4116239   0.52686423]]\n",
      "Bias: [-0.30037066  0.34592864 -0.41550454 -0.47053525 -0.13317862 -0.7437\n",
      " -1.0772129   8.635344   -0.48964325]\n",
      "Weight: [[-1.3046738 ]\n",
      " [ 1.6238999 ]\n",
      " [ 2.3377132 ]\n",
      " [-0.3933    ]\n",
      " [-0.48782948]\n",
      " [-0.578736  ]\n",
      " [ 1.2122171 ]\n",
      " [ 1.6764576 ]\n",
      " [-0.36463994]]\n",
      "Bias: [0.09980404]\n"
     ]
    }
   ],
   "source": [
    "# weight과 bias 출력\n",
    "print('Weight:',W1.numpy())\n",
    "print('Bias:',b1.numpy())\n",
    "print('Weight:',W2.numpy())\n",
    "print('Bias:',b2.numpy())\n",
    "print('Weight:',W3.numpy())\n",
    "print('Bias:',b3.numpy())"
   ]
  },
  {
   "cell_type": "code",
   "execution_count": 13,
   "id": "c4c2b8a0",
   "metadata": {},
   "outputs": [
    {
     "name": "stdout",
     "output_type": "stream",
     "text": [
      "***** Predict\n",
      "[[22.358223 ]\n",
      " [34.430843 ]\n",
      " [23.031853 ]\n",
      " [32.088566 ]\n",
      " [34.8681   ]\n",
      " [24.410639 ]\n",
      " [24.239464 ]\n",
      " [12.573864 ]\n",
      " [29.265884 ]\n",
      " [21.62234  ]\n",
      " [26.251108 ]\n",
      " [18.330727 ]\n",
      " [20.409992 ]\n",
      " [43.44822  ]\n",
      " [13.679272 ]\n",
      " [15.870068 ]\n",
      " [27.109089 ]\n",
      " [17.96848  ]\n",
      " [28.96043  ]\n",
      " [18.052166 ]\n",
      " [16.507238 ]\n",
      " [23.912167 ]\n",
      " [27.047932 ]\n",
      " [17.892534 ]\n",
      " [17.489817 ]\n",
      " [22.516253 ]\n",
      " [31.188766 ]\n",
      " [38.021954 ]\n",
      " [24.583313 ]\n",
      " [20.74224  ]\n",
      " [23.30235  ]\n",
      " [21.584175 ]\n",
      " [33.01878  ]\n",
      " [34.12742  ]\n",
      " [35.73872  ]\n",
      " [21.429487 ]\n",
      " [19.790081 ]\n",
      " [40.685436 ]\n",
      " [20.613567 ]\n",
      " [26.185413 ]\n",
      " [22.902498 ]\n",
      " [21.064394 ]\n",
      " [14.647728 ]\n",
      " [21.737274 ]\n",
      " [21.957539 ]\n",
      " [15.451237 ]\n",
      " [15.870754 ]\n",
      " [22.046677 ]\n",
      " [17.487373 ]\n",
      " [20.994823 ]\n",
      " [ 6.837513 ]\n",
      " [14.02116  ]\n",
      " [22.028423 ]\n",
      " [24.18103  ]\n",
      " [25.861317 ]\n",
      " [24.24331  ]\n",
      " [16.887737 ]\n",
      " [17.776455 ]\n",
      " [28.956371 ]\n",
      " [20.411762 ]\n",
      " [20.237404 ]\n",
      " [17.127712 ]\n",
      " [24.413311 ]\n",
      " [30.888165 ]\n",
      " [15.66212  ]\n",
      " [14.19017  ]\n",
      " [32.15329  ]\n",
      " [24.55952  ]\n",
      " [30.533772 ]\n",
      " [28.645412 ]\n",
      " [27.428986 ]\n",
      " [23.762527 ]\n",
      " [21.272657 ]\n",
      " [20.982533 ]\n",
      " [27.463345 ]\n",
      " [19.678497 ]\n",
      " [35.254272 ]\n",
      " [18.876999 ]\n",
      " [17.872725 ]\n",
      " [18.000242 ]\n",
      " [19.710659 ]\n",
      " [18.210953 ]\n",
      " [25.34098  ]\n",
      " [23.209518 ]\n",
      " [24.70893  ]\n",
      " [21.94083  ]\n",
      " [17.849762 ]\n",
      " [18.420292 ]\n",
      " [33.07578  ]\n",
      " [24.836773 ]\n",
      " [30.263073 ]\n",
      " [18.918743 ]\n",
      " [27.196527 ]\n",
      " [31.669428 ]\n",
      " [15.211483 ]\n",
      " [18.24321  ]\n",
      " [15.5119705]\n",
      " [13.131671 ]\n",
      " [17.093319 ]\n",
      " [29.962194 ]]\n"
     ]
    }
   ],
   "source": [
    "# 예측\n",
    "print('***** Predict')\n",
    "x_test = xy_test[:,:-1]\n",
    "print(hypothesis(x_test).numpy())\n"
   ]
  },
  {
   "cell_type": "code",
   "execution_count": 11,
   "id": "c92d5560",
   "metadata": {},
   "outputs": [
    {
     "name": "stdout",
     "output_type": "stream",
     "text": [
      "RMSE: 3.845673\n"
     ]
    }
   ],
   "source": [
    "# 정확도 측정 : RMSE(Root Mean Squared Error)\n",
    "def get_rmse(y_test,preds):\n",
    "    squared_error = 0\n",
    "    for k,_ in enumerate(y_test):\n",
    "        squared_error += (preds[k] - y_test[k])**2\n",
    "    mse = squared_error/len(y_test)  \n",
    "    rmse = np.sqrt(mse)\n",
    "    return rmse[0]\n",
    "\n",
    "\n",
    "preds = hypothesis(x_test).numpy()\n",
    "print('RMSE:',get_rmse(y_test,preds))  # RMSE: 2.4112918 "
   ]
  },
  {
   "cell_type": "code",
   "execution_count": null,
   "id": "8d9d6016",
   "metadata": {},
   "outputs": [],
   "source": []
  }
 ],
 "metadata": {
  "kernelspec": {
   "display_name": "Python 3 (ipykernel)",
   "language": "python",
   "name": "python3"
  },
  "language_info": {
   "codemirror_mode": {
    "name": "ipython",
    "version": 3
   },
   "file_extension": ".py",
   "mimetype": "text/x-python",
   "name": "python",
   "nbconvert_exporter": "python",
   "pygments_lexer": "ipython3",
   "version": "3.9.12"
  }
 },
 "nbformat": 4,
 "nbformat_minor": 5
}
