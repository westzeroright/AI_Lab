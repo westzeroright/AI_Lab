{
 "cells": [
  {
   "cell_type": "code",
   "execution_count": 1,
   "id": "af698f64",
   "metadata": {},
   "outputs": [
    {
     "name": "stderr",
     "output_type": "stream",
     "text": [
      "C:\\Users\\Public\\Documents\\ESTsoft\\CreatorTemp\\ipykernel_14580\\385832820.py:10: DeprecationWarning: `np.str` is a deprecated alias for the builtin `str`. To silence this warning, use `str` by itself. Doing this will not modify any behavior and is safe. If you specifically wanted the numpy scalar type, use `np.str_` here.\n",
      "Deprecated in NumPy 1.20; for more details and guidance: https://numpy.org/devdocs/release/1.20.0-notes.html#deprecations\n",
      "  xy = np.loadtxt('iris.csv',delimiter=',',dtype=np.str,skiprows=1)\n"
     ]
    },
    {
     "data": {
      "text/plain": [
       "(150, 6)"
      ]
     },
     "execution_count": 1,
     "metadata": {},
     "output_type": "execute_result"
    }
   ],
   "source": [
    "# iris_softmax_multi_classification\n",
    "\n",
    "import tensorflow as tf\n",
    "import numpy as np\n",
    "import matplotlib.pyplot as plt\n",
    "tf.random.set_seed(5)\n",
    "\n",
    "species_list =['\"setosa\"','\"versicolor\"','\"virginica\"']\n",
    "\n",
    "xy = np.loadtxt('iris.csv',delimiter=',',dtype=np.str,skiprows=1)\n",
    "xy.shape"
   ]
  },
  {
   "cell_type": "code",
   "execution_count": 2,
   "id": "45ac4ea4",
   "metadata": {},
   "outputs": [
    {
     "name": "stdout",
     "output_type": "stream",
     "text": [
      "[['0']\n",
      " ['0']\n",
      " ['0']\n",
      " ['0']\n",
      " ['0']\n",
      " ['0']\n",
      " ['0']\n",
      " ['0']\n",
      " ['0']\n",
      " ['0']\n",
      " ['0']\n",
      " ['0']\n",
      " ['0']\n",
      " ['0']\n",
      " ['0']\n",
      " ['0']\n",
      " ['0']\n",
      " ['0']\n",
      " ['0']\n",
      " ['0']\n",
      " ['0']\n",
      " ['0']\n",
      " ['0']\n",
      " ['0']\n",
      " ['0']\n",
      " ['0']\n",
      " ['0']\n",
      " ['0']\n",
      " ['0']\n",
      " ['0']\n",
      " ['0']\n",
      " ['0']\n",
      " ['0']\n",
      " ['0']\n",
      " ['0']\n",
      " ['1']\n",
      " ['1']\n",
      " ['1']\n",
      " ['1']\n",
      " ['1']\n",
      " ['1']\n",
      " ['1']\n",
      " ['1']\n",
      " ['1']\n",
      " ['1']\n",
      " ['1']\n",
      " ['1']\n",
      " ['1']\n",
      " ['1']\n",
      " ['1']\n",
      " ['1']\n",
      " ['1']\n",
      " ['1']\n",
      " ['1']\n",
      " ['1']\n",
      " ['1']\n",
      " ['1']\n",
      " ['1']\n",
      " ['1']\n",
      " ['1']\n",
      " ['1']\n",
      " ['1']\n",
      " ['1']\n",
      " ['1']\n",
      " ['1']\n",
      " ['1']\n",
      " ['1']\n",
      " ['1']\n",
      " ['1']\n",
      " ['1']\n",
      " ['2']\n",
      " ['2']\n",
      " ['2']\n",
      " ['2']\n",
      " ['2']\n",
      " ['2']\n",
      " ['2']\n",
      " ['2']\n",
      " ['2']\n",
      " ['2']\n",
      " ['2']\n",
      " ['2']\n",
      " ['2']\n",
      " ['2']\n",
      " ['2']\n",
      " ['2']\n",
      " ['2']\n",
      " ['2']\n",
      " ['2']\n",
      " ['2']\n",
      " ['2']\n",
      " ['2']\n",
      " ['2']\n",
      " ['2']\n",
      " ['2']\n",
      " ['2']\n",
      " ['2']\n",
      " ['2']\n",
      " ['2']\n",
      " ['2']\n",
      " ['2']\n",
      " ['2']\n",
      " ['2']\n",
      " ['2']\n",
      " ['2']]\n"
     ]
    }
   ],
   "source": [
    "x_train = np.float32(xy[:35,1:-1])\n",
    "x_train = np.append(x_train , np.float32(xy[50:85,1:-1]),0)\n",
    "x_train = np.append(x_train , np.float32(xy[100:135,1:-1]),0) # [105,4]\n",
    "\n",
    "y_train = xy[:35,[-1] ]\n",
    "y_train = np.append(y_train, xy[50:85,[-1]],0)\n",
    "y_train = np.append(y_train, xy[100:135,[-1]],0) # [105,1]\n",
    "\n",
    "for i in range(105):\n",
    "   y_train[i,-1] = np.int32(species_list.index(y_train[i,-1]))\n",
    "print(y_train)"
   ]
  },
  {
   "cell_type": "code",
   "execution_count": 3,
   "id": "b116827a",
   "metadata": {
    "scrolled": true
   },
   "outputs": [
    {
     "name": "stdout",
     "output_type": "stream",
     "text": [
      "[['0']\n",
      " ['0']\n",
      " ['0']\n",
      " ['0']\n",
      " ['0']\n",
      " ['0']\n",
      " ['0']\n",
      " ['0']\n",
      " ['0']\n",
      " ['0']\n",
      " ['0']\n",
      " ['0']\n",
      " ['0']\n",
      " ['0']\n",
      " ['0']\n",
      " ['1']\n",
      " ['1']\n",
      " ['1']\n",
      " ['1']\n",
      " ['1']\n",
      " ['1']\n",
      " ['1']\n",
      " ['1']\n",
      " ['1']\n",
      " ['1']\n",
      " ['1']\n",
      " ['1']\n",
      " ['1']\n",
      " ['1']\n",
      " ['1']\n",
      " ['2']\n",
      " ['2']\n",
      " ['2']\n",
      " ['2']\n",
      " ['2']\n",
      " ['2']\n",
      " ['2']\n",
      " ['2']\n",
      " ['2']\n",
      " ['2']\n",
      " ['2']\n",
      " ['2']\n",
      " ['2']\n",
      " ['2']\n",
      " ['2']]\n",
      "(105, 4) (105, 1)\n",
      "(45, 4) (45, 1)\n"
     ]
    }
   ],
   "source": [
    "x_test = np.float32(xy[35:50,1:-1])\n",
    "x_test = np.append(x_test , np.float32(xy[85:100,1:-1]),0)\n",
    "x_test = np.append(x_test , np.float32(xy[135:,1:-1]),0) # [45,4]\n",
    "\n",
    "y_test = xy[35:50,[-1] ]\n",
    "y_test = np.append(y_test, xy[85:100,[-1]],0)\n",
    "y_test = np.append(y_test, xy[135:,[-1]],0) # [45,1]\n",
    "\n",
    "for i in range(45):\n",
    "   y_test[i,-1] = np.int32(species_list.index(y_test[i,-1]))\n",
    "print(y_test)\n",
    "\n",
    "print(x_train.shape, y_train.shape)\n",
    "print(x_test.shape, y_test.shape)\n",
    "\n",
    "# X = np.array(x_train,dtype=np.float32)\n",
    "Y = np.array(y_train,dtype=np.int32)   # 반드시 int형으로(one_hot encoding)"
   ]
  },
  {
   "cell_type": "code",
   "execution_count": 4,
   "id": "e58b1cd5",
   "metadata": {},
   "outputs": [],
   "source": [
    "# [one-hot 인코딩]\n",
    "y_train = tf.keras.utils.to_categorical(y_train, num_classes=3)\n",
    "y_test = tf.keras.utils.to_categorical(y_test, num_classes=3)"
   ]
  },
  {
   "cell_type": "code",
   "execution_count": 5,
   "id": "ef9ec011",
   "metadata": {},
   "outputs": [
    {
     "name": "stdout",
     "output_type": "stream",
     "text": [
      "Model: \"sequential\"\n",
      "_________________________________________________________________\n",
      " Layer (type)                Output Shape              Param #   \n",
      "=================================================================\n",
      " dense (Dense)               (None, 20)                100       \n",
      "                                                                 \n",
      " dense_1 (Dense)             (None, 3)                 63        \n",
      "                                                                 \n",
      "=================================================================\n",
      "Total params: 163\n",
      "Trainable params: 163\n",
      "Non-trainable params: 0\n",
      "_________________________________________________________________\n"
     ]
    }
   ],
   "source": [
    "# Callback\n",
    "class myCallback(tf.keras.callbacks.Callback):\n",
    "    def on_epoch_end(self,epoch,logs={}): \n",
    "        print('>>>myCallback:on_epoch_end',epoch)\n",
    "        if(logs.get('accuracy') > 0.9):\n",
    "            print('\\nReached 85% accuracy so cancelling training!')\n",
    "            self.model.stop_training = True\n",
    "            \n",
    "callbacks = myCallback() # 클래스의 인스턴스 생성\n",
    "        \n",
    "\n",
    "# Dense Layer 구현 : 2층\n",
    "model = tf.keras.Sequential([\n",
    "    # 첫번째 층 출력 : [None,20],   활성화 함수 : 'relu', metrics:['accuracy']\n",
    "    tf.keras.layers.Dense(units=20,activation='relu',input_shape=(4,)) ,\n",
    "    # 두번째 층 출력 : [Non,2],   활성화 함수 : 'relu'\n",
    "    tf.keras.layers.Dense(units=3,activation='softmax')\n",
    "])\n",
    "\n",
    "model.compile(optimizer=tf.keras.optimizers.Adam(learning_rate=0.01),\n",
    "             loss='categorical_crossentropy',\n",
    "             metrics=['accuracy'])\n",
    "\n",
    "model.summary()"
   ]
  },
  {
   "cell_type": "code",
   "execution_count": 6,
   "id": "9901206c",
   "metadata": {},
   "outputs": [
    {
     "name": "stdout",
     "output_type": "stream",
     "text": [
      "Epoch 1/700\n",
      " 58/105 [===============>..............] - ETA: 0s - loss: 1.0499 - accuracy: 0.5000      >>>myCallback:on_epoch_end 0\n",
      "105/105 [==============================] - 1s 881us/step - loss: 0.8597 - accuracy: 0.6000\n",
      "Epoch 2/700\n",
      " 60/105 [================>.............] - ETA: 0s - loss: 0.4774 - accuracy: 0.7833    >>>myCallback:on_epoch_end 1\n",
      "105/105 [==============================] - 0s 846us/step - loss: 0.4644 - accuracy: 0.7905\n",
      "Epoch 3/700\n",
      " 62/105 [================>.............] - ETA: 0s - loss: 0.4121 - accuracy: 0.8065>>>myCallback:on_epoch_end 2\n",
      "105/105 [==============================] - 0s 837us/step - loss: 0.4310 - accuracy: 0.8000\n",
      "Epoch 4/700\n",
      " 62/105 [================>.............] - ETA: 0s - loss: 0.2954 - accuracy: 0.8871>>>myCallback:on_epoch_end 3\n",
      "105/105 [==============================] - 0s 837us/step - loss: 0.2854 - accuracy: 0.8952\n",
      "Epoch 5/700\n",
      " 63/105 [=================>............] - ETA: 0s - loss: 0.2578 - accuracy: 0.9048>>>myCallback:on_epoch_end 4\n",
      "105/105 [==============================] - 0s 816us/step - loss: 0.2899 - accuracy: 0.8571\n",
      "Epoch 6/700\n",
      " 62/105 [================>.............] - ETA: 0s - loss: 0.2240 - accuracy: 0.9032>>>myCallback:on_epoch_end 5\n",
      "\n",
      "Reached 85% accuracy so cancelling training!\n",
      "105/105 [==============================] - 0s 844us/step - loss: 0.2038 - accuracy: 0.9429\n"
     ]
    }
   ],
   "source": [
    "# 학습\n",
    "history = model.fit(x_train,y_train,epochs=700,batch_size=1,verbose=1,callbacks=[callbacks]) # verbose=1, 메세지를 출력"
   ]
  },
  {
   "cell_type": "code",
   "execution_count": 7,
   "id": "aa934129",
   "metadata": {},
   "outputs": [
    {
     "data": {
      "image/png": "[encoded data removed]",
      "text/plain": [
       "<Figure size 640x480 with 1 Axes>"
      ]
     },
     "metadata": {},
     "output_type": "display_data"
    }
   ],
   "source": [
    "# 시각화\n",
    "epoch_count = range(1, len(history.history['loss']) + 1)\n",
    "plt.plot(epoch_count, history.history['loss'], 'r-')\n",
    "plt.legend(['Training Loss'])\n",
    "plt.xlabel('Epoch')\n",
    "plt.ylabel('Loss')\n",
    "plt.show()"
   ]
  },
  {
   "cell_type": "code",
   "execution_count": 8,
   "id": "fdcc64bd",
   "metadata": {},
   "outputs": [
    {
     "name": "stdout",
     "output_type": "stream",
     "text": [
      "4/4 [==============================] - 0s 836us/step\n"
     ]
    },
    {
     "data": {
      "text/plain": [
       "array([[1., 0., 0.],\n",
       "       [1., 0., 0.],\n",
       "       [1., 0., 0.],\n",
       "       [1., 0., 0.],\n",
       "       [1., 0., 0.],\n",
       "       [1., 0., 0.],\n",
       "       [1., 0., 0.],\n",
       "       [1., 0., 0.],\n",
       "       [1., 0., 0.],\n",
       "       [1., 0., 0.],\n",
       "       [1., 0., 0.],\n",
       "       [1., 0., 0.],\n",
       "       [1., 0., 0.],\n",
       "       [1., 0., 0.],\n",
       "       [1., 0., 0.],\n",
       "       [1., 0., 0.],\n",
       "       [1., 0., 0.],\n",
       "       [1., 0., 0.],\n",
       "       [1., 0., 0.],\n",
       "       [1., 0., 0.],\n",
       "       [1., 0., 0.],\n",
       "       [1., 0., 0.],\n",
       "       [1., 0., 0.],\n",
       "       [1., 0., 0.],\n",
       "       [1., 0., 0.],\n",
       "       [1., 0., 0.],\n",
       "       [1., 0., 0.],\n",
       "       [1., 0., 0.],\n",
       "       [1., 0., 0.],\n",
       "       [1., 0., 0.],\n",
       "       [1., 0., 0.],\n",
       "       [1., 0., 0.],\n",
       "       [1., 0., 0.],\n",
       "       [1., 0., 0.],\n",
       "       [1., 0., 0.],\n",
       "       [0., 1., 0.],\n",
       "       [0., 1., 0.],\n",
       "       [0., 1., 0.],\n",
       "       [0., 1., 0.],\n",
       "       [0., 1., 0.],\n",
       "       [0., 1., 0.],\n",
       "       [0., 1., 0.],\n",
       "       [0., 1., 0.],\n",
       "       [0., 1., 0.],\n",
       "       [0., 1., 0.],\n",
       "       [0., 1., 0.],\n",
       "       [0., 1., 0.],\n",
       "       [0., 1., 0.],\n",
       "       [0., 1., 0.],\n",
       "       [0., 1., 0.],\n",
       "       [0., 1., 0.],\n",
       "       [0., 1., 0.],\n",
       "       [0., 1., 0.],\n",
       "       [0., 1., 0.],\n",
       "       [0., 1., 0.],\n",
       "       [0., 1., 0.],\n",
       "       [0., 1., 0.],\n",
       "       [0., 1., 0.],\n",
       "       [0., 1., 0.],\n",
       "       [0., 1., 0.],\n",
       "       [0., 1., 0.],\n",
       "       [0., 1., 0.],\n",
       "       [0., 1., 0.],\n",
       "       [0., 1., 0.],\n",
       "       [0., 1., 0.],\n",
       "       [0., 1., 0.],\n",
       "       [0., 1., 0.],\n",
       "       [0., 1., 0.],\n",
       "       [0., 0., 1.],\n",
       "       [0., 1., 0.],\n",
       "       [0., 0., 1.],\n",
       "       [0., 0., 1.],\n",
       "       [0., 0., 1.],\n",
       "       [0., 0., 1.],\n",
       "       [0., 0., 1.],\n",
       "       [0., 0., 1.],\n",
       "       [0., 0., 1.],\n",
       "       [0., 0., 1.],\n",
       "       [0., 0., 1.],\n",
       "       [0., 0., 1.],\n",
       "       [0., 1., 0.],\n",
       "       [0., 0., 1.],\n",
       "       [0., 0., 1.],\n",
       "       [0., 0., 1.],\n",
       "       [0., 0., 1.],\n",
       "       [0., 0., 1.],\n",
       "       [0., 0., 1.],\n",
       "       [0., 0., 1.],\n",
       "       [0., 0., 1.],\n",
       "       [0., 0., 1.],\n",
       "       [0., 0., 1.],\n",
       "       [0., 0., 1.],\n",
       "       [0., 0., 1.],\n",
       "       [0., 1., 0.],\n",
       "       [0., 0., 1.],\n",
       "       [0., 0., 1.],\n",
       "       [0., 1., 0.],\n",
       "       [0., 1., 0.],\n",
       "       [0., 0., 1.],\n",
       "       [0., 1., 0.],\n",
       "       [0., 0., 1.],\n",
       "       [0., 1., 0.],\n",
       "       [0., 0., 1.],\n",
       "       [0., 1., 0.],\n",
       "       [0., 0., 1.]], dtype=float32)"
      ]
     },
     "execution_count": 8,
     "metadata": {},
     "output_type": "execute_result"
    }
   ],
   "source": [
    "# 예측\n",
    "preds = model.predict(x_train)\n",
    "np.round(preds)"
   ]
  },
  {
   "cell_type": "code",
   "execution_count": 9,
   "id": "cc009c79",
   "metadata": {},
   "outputs": [
    {
     "name": "stdout",
     "output_type": "stream",
     "text": [
      "2/2 [==============================] - 0s 2ms/step - loss: 0.1558 - accuracy: 0.9778\n"
     ]
    },
    {
     "data": {
      "text/plain": [
       "[0.15581519901752472, 0.9777777791023254]"
      ]
     },
     "execution_count": 9,
     "metadata": {},
     "output_type": "execute_result"
    }
   ],
   "source": [
    "# 평가\n",
    "model.evaluate(x_test,y_test)"
   ]
  },
  {
   "cell_type": "code",
   "execution_count": 10,
   "id": "cfc1b007",
   "metadata": {},
   "outputs": [
    {
     "name": "stdout",
     "output_type": "stream",
     "text": [
      "Model: \"sequential_1\"\n",
      "_________________________________________________________________\n",
      " Layer (type)                Output Shape              Param #   \n",
      "=================================================================\n",
      " dense_2 (Dense)             (None, 40)                200       \n",
      "                                                                 \n",
      " dense_3 (Dense)             (None, 20)                820       \n",
      "                                                                 \n",
      " dense_4 (Dense)             (None, 3)                 63        \n",
      "                                                                 \n",
      "=================================================================\n",
      "Total params: 1,083\n",
      "Trainable params: 1,083\n",
      "Non-trainable params: 0\n",
      "_________________________________________________________________\n"
     ]
    }
   ],
   "source": [
    "# Callback\n",
    "class myCallback(tf.keras.callbacks.Callback):\n",
    "    def on_epoch_end(self,epoch,logs={}): \n",
    "        print('>>>myCallback:on_epoch_end',epoch)\n",
    "        if(logs.get('accuracy') > 0.9):\n",
    "            print('\\nReached 85% accuracy so cancelling training!')\n",
    "            self.model.stop_training = True\n",
    "            \n",
    "callbacks = myCallback() # 클래스의 인스턴스 생성\n",
    "        \n",
    "\n",
    "# Dense Layer 구현 : 3층\n",
    "model = tf.keras.Sequential([\n",
    "    # 첫번째 층 출력 : [None,20],   활성화 함수 : 'relu', metrics:['accuracy']\n",
    "    tf.keras.layers.Dense(units=40,activation='relu',input_shape=(4,)) ,\n",
    "    # 첫번째 층 출력 : [None,20],   활성화 함수 : 'relu', metrics:['accuracy']\n",
    "    tf.keras.layers.Dense(units=20,activation='relu',input_shape=(4,)) ,\n",
    "    # 두번째 층 출력 : [Non,2],   활성화 함수 : 'relu'\n",
    "    tf.keras.layers.Dense(units=3,activation='softmax')\n",
    "])\n",
    "\n",
    "model.compile(optimizer=tf.keras.optimizers.Adam(learning_rate=0.01),\n",
    "             loss='categorical_crossentropy',\n",
    "             metrics=['accuracy'])\n",
    "\n",
    "model.summary()"
   ]
  },
  {
   "cell_type": "code",
   "execution_count": 11,
   "id": "9f7e6a5d",
   "metadata": {},
   "outputs": [
    {
     "name": "stdout",
     "output_type": "stream",
     "text": [
      "Epoch 1/700\n",
      " 55/105 [==============>...............] - ETA: 0s - loss: 1.0482 - accuracy: 0.5455 >>>myCallback:on_epoch_end 0\n",
      "105/105 [==============================] - 0s 916us/step - loss: 0.7791 - accuracy: 0.6286\n",
      "Epoch 2/700\n",
      " 56/105 [===============>..............] - ETA: 0s - loss: 0.4162 - accuracy: 0.7679>>>myCallback:on_epoch_end 1\n",
      "105/105 [==============================] - 0s 896us/step - loss: 0.4137 - accuracy: 0.7905\n",
      "Epoch 3/700\n",
      " 56/105 [===============>..............] - ETA: 0s - loss: 0.3581 - accuracy: 0.8214>>>myCallback:on_epoch_end 2\n",
      "105/105 [==============================] - 0s 934us/step - loss: 0.3803 - accuracy: 0.7714\n",
      "Epoch 4/700\n",
      " 54/105 [==============>...............] - ETA: 0s - loss: 0.2331 - accuracy: 0.8889>>>myCallback:on_epoch_end 3\n",
      "105/105 [==============================] - 0s 958us/step - loss: 0.2133 - accuracy: 0.8952\n",
      "Epoch 5/700\n",
      " 56/105 [===============>..............] - ETA: 0s - loss: 0.1982 - accuracy: 0.9286>>>myCallback:on_epoch_end 4\n",
      "105/105 [==============================] - 0s 931us/step - loss: 0.2917 - accuracy: 0.8762\n",
      "Epoch 6/700\n",
      " 54/105 [==============>...............] - ETA: 0s - loss: 0.3200 - accuracy: 0.8333>>>myCallback:on_epoch_end 5\n",
      "\n",
      "Reached 85% accuracy so cancelling training!\n",
      "105/105 [==============================] - 0s 901us/step - loss: 0.2244 - accuracy: 0.9048\n"
     ]
    }
   ],
   "source": [
    "# 학습\n",
    "history = model.fit(x_train,y_train,epochs=700,batch_size=1,verbose=1,callbacks=[callbacks]) # verbose=1, 메세지를 출력"
   ]
  },
  {
   "cell_type": "code",
   "execution_count": 12,
   "id": "2723f9d6",
   "metadata": {},
   "outputs": [
    {
     "data": {
      "image/png": "[encoded data removed]",
      "text/plain": [
       "<Figure size 640x480 with 1 Axes>"
      ]
     },
     "metadata": {},
     "output_type": "display_data"
    }
   ],
   "source": [
    "# 시각화\n",
    "epoch_count = range(1, len(history.history['loss']) + 1)\n",
    "plt.plot(epoch_count, history.history['loss'], 'r-')\n",
    "plt.legend(['Training Loss'])\n",
    "plt.xlabel('Epoch')\n",
    "plt.ylabel('Loss')\n",
    "plt.show()"
   ]
  },
  {
   "cell_type": "code",
   "execution_count": 13,
   "id": "db3942af",
   "metadata": {},
   "outputs": [
    {
     "name": "stdout",
     "output_type": "stream",
     "text": [
      "4/4 [==============================] - 0s 997us/step\n"
     ]
    },
    {
     "data": {
      "text/plain": [
       "array([[1., 0., 0.],\n",
       "       [1., 0., 0.],\n",
       "       [1., 0., 0.],\n",
       "       [1., 0., 0.],\n",
       "       [1., 0., 0.],\n",
       "       [1., 0., 0.],\n",
       "       [1., 0., 0.],\n",
       "       [1., 0., 0.],\n",
       "       [1., 0., 0.],\n",
       "       [1., 0., 0.],\n",
       "       [1., 0., 0.],\n",
       "       [1., 0., 0.],\n",
       "       [1., 0., 0.],\n",
       "       [1., 0., 0.],\n",
       "       [1., 0., 0.],\n",
       "       [1., 0., 0.],\n",
       "       [1., 0., 0.],\n",
       "       [1., 0., 0.],\n",
       "       [1., 0., 0.],\n",
       "       [1., 0., 0.],\n",
       "       [1., 0., 0.],\n",
       "       [1., 0., 0.],\n",
       "       [1., 0., 0.],\n",
       "       [1., 0., 0.],\n",
       "       [1., 0., 0.],\n",
       "       [1., 0., 0.],\n",
       "       [1., 0., 0.],\n",
       "       [1., 0., 0.],\n",
       "       [1., 0., 0.],\n",
       "       [1., 0., 0.],\n",
       "       [1., 0., 0.],\n",
       "       [1., 0., 0.],\n",
       "       [1., 0., 0.],\n",
       "       [1., 0., 0.],\n",
       "       [1., 0., 0.],\n",
       "       [0., 1., 0.],\n",
       "       [0., 1., 0.],\n",
       "       [0., 1., 0.],\n",
       "       [0., 1., 0.],\n",
       "       [0., 1., 0.],\n",
       "       [0., 1., 0.],\n",
       "       [0., 1., 0.],\n",
       "       [0., 1., 0.],\n",
       "       [0., 1., 0.],\n",
       "       [0., 1., 0.],\n",
       "       [0., 1., 0.],\n",
       "       [0., 1., 0.],\n",
       "       [0., 1., 0.],\n",
       "       [0., 1., 0.],\n",
       "       [0., 1., 0.],\n",
       "       [0., 1., 0.],\n",
       "       [0., 1., 0.],\n",
       "       [0., 1., 0.],\n",
       "       [0., 1., 0.],\n",
       "       [0., 1., 0.],\n",
       "       [0., 1., 0.],\n",
       "       [0., 1., 0.],\n",
       "       [0., 1., 0.],\n",
       "       [0., 1., 0.],\n",
       "       [0., 1., 0.],\n",
       "       [0., 1., 0.],\n",
       "       [0., 1., 0.],\n",
       "       [0., 1., 0.],\n",
       "       [0., 1., 0.],\n",
       "       [0., 1., 0.],\n",
       "       [0., 1., 0.],\n",
       "       [0., 1., 0.],\n",
       "       [0., 1., 0.],\n",
       "       [0., 0., 1.],\n",
       "       [0., 1., 0.],\n",
       "       [0., 0., 1.],\n",
       "       [0., 0., 1.],\n",
       "       [0., 0., 1.],\n",
       "       [0., 0., 1.],\n",
       "       [0., 0., 1.],\n",
       "       [0., 0., 1.],\n",
       "       [0., 0., 1.],\n",
       "       [0., 0., 1.],\n",
       "       [0., 0., 1.],\n",
       "       [0., 0., 1.],\n",
       "       [0., 1., 0.],\n",
       "       [0., 0., 1.],\n",
       "       [0., 0., 1.],\n",
       "       [0., 0., 1.],\n",
       "       [0., 0., 1.],\n",
       "       [0., 0., 1.],\n",
       "       [0., 0., 1.],\n",
       "       [0., 0., 1.],\n",
       "       [0., 0., 1.],\n",
       "       [0., 0., 1.],\n",
       "       [0., 0., 1.],\n",
       "       [0., 0., 1.],\n",
       "       [0., 0., 1.],\n",
       "       [0., 1., 0.],\n",
       "       [0., 0., 1.],\n",
       "       [0., 0., 1.],\n",
       "       [0., 1., 0.],\n",
       "       [0., 1., 0.],\n",
       "       [0., 0., 1.],\n",
       "       [0., 1., 0.],\n",
       "       [0., 0., 1.],\n",
       "       [0., 1., 0.],\n",
       "       [0., 0., 1.],\n",
       "       [0., 1., 0.],\n",
       "       [0., 0., 1.]], dtype=float32)"
      ]
     },
     "execution_count": 13,
     "metadata": {},
     "output_type": "execute_result"
    }
   ],
   "source": [
    "# 예측\n",
    "preds = model.predict(x_train)\n",
    "np.round(preds)"
   ]
  },
  {
   "cell_type": "code",
   "execution_count": 14,
   "id": "89ce846f",
   "metadata": {},
   "outputs": [
    {
     "name": "stdout",
     "output_type": "stream",
     "text": [
      "2/2 [==============================] - 0s 997us/step - loss: 0.1290 - accuracy: 0.9778\n"
     ]
    },
    {
     "data": {
      "text/plain": [
       "[0.12899741530418396, 0.9777777791023254]"
      ]
     },
     "execution_count": 14,
     "metadata": {},
     "output_type": "execute_result"
    }
   ],
   "source": [
    "# 평가\n",
    "model.evaluate(x_test,y_test)"
   ]
  },
  {
   "cell_type": "code",
   "execution_count": null,
   "id": "566218ff",
   "metadata": {},
   "outputs": [],
   "source": []
  }
 ],
 "metadata": {
  "kernelspec": {
   "display_name": "Python 3 (ipykernel)",
   "language": "python",
   "name": "python3"
  },
  "language_info": {
   "codemirror_mode": {
    "name": "ipython",
    "version": 3
   },
   "file_extension": ".py",
   "mimetype": "text/x-python",
   "name": "python",
   "nbconvert_exporter": "python",
   "pygments_lexer": "ipython3",
   "version": "3.10.9"
  }
 },
 "nbformat": 4,
 "nbformat_minor": 5
}
