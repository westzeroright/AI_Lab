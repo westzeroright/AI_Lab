{
 "cells": [
  {
   "cell_type": "markdown",
   "id": "899b5b03",
   "metadata": {},
   "source": [
    "# Linear Regression(선형 회귀)"
   ]
  },
  {
   "cell_type": "code",
   "execution_count": 1,
   "id": "00a8b85e",
   "metadata": {},
   "outputs": [],
   "source": [
    "import tensorflow as tf\n",
    "import numpy as np\n",
    "tf.random.set_seed(5)\n",
    "\n",
    "# 학습 데이터 : X와 Y 데이터\n",
    "x_train = [1.,2.,3.,4.,5.]\n",
    "y_train = [1.1,2.2,3.3,4.4,5.5]"
   ]
  },
  {
   "cell_type": "code",
   "execution_count": 2,
   "id": "b856f3cb",
   "metadata": {},
   "outputs": [
    {
     "name": "stdout",
     "output_type": "stream",
     "text": [
      "<tf.Variable 'weight:0' shape=(1,) dtype=float32, numpy=array([-0.18030666], dtype=float32)>\n",
      "<tf.Variable 'bias:0' shape=(1,) dtype=float32, numpy=array([0.22652863], dtype=float32)>\n"
     ]
    }
   ],
   "source": [
    "# 변수 초기화 : weight, bias\n",
    "W = tf.Variable(tf.random.normal([1]),name='weight')\n",
    "b = tf.Variable(tf.random.normal([1]),name='bias')\n",
    "print(W)\n",
    "print(b)"
   ]
  },
  {
   "cell_type": "code",
   "execution_count": 3,
   "id": "14f9e8bb",
   "metadata": {},
   "outputs": [],
   "source": [
    "# 예측 함수(hypothesis) : H(x) = W*X + b\n",
    "def hypothesis(X):\n",
    "    return X*W + b"
   ]
  },
  {
   "cell_type": "code",
   "execution_count": 4,
   "id": "d1c82a5f",
   "metadata": {},
   "outputs": [],
   "source": [
    "# 비용 함수 : (Hx - y)^2 의 평균\n",
    "# tf.square()      : 제곱\n",
    "# tf.reduce_mean() : 합의 평균\n",
    "def cost_func():\n",
    "    cost = tf.reduce_mean(tf.square(hypothesis(x_train) - y_train))\n",
    "    return cost"
   ]
  },
  {
   "cell_type": "code",
   "execution_count": 5,
   "id": "f2426c97",
   "metadata": {},
   "outputs": [],
   "source": [
    "# 경사 하강법\n",
    "# optimizer = tf.compat.v1.train.GradientDescentOptimizer(learning_rate=0.01)\n",
    "# optimizer = tf.compat.v1.train.AdamOptimizer(learning_rate=0.01)\n",
    "optimizer = tf.keras.optimizers.Adam(learning_rate=0.01)"
   ]
  },
  {
   "cell_type": "code",
   "execution_count": 6,
   "id": "355b0b0f",
   "metadata": {},
   "outputs": [
    {
     "name": "stdout",
     "output_type": "stream",
     "text": [
      "***** Start Learning!!\n",
      "0000 cost:[ 16.003632 ]  W: [-0.17030665]  b: [0.23652862]\n",
      "0100 cost:[ 0.8404964 ]  W: [0.58833593]  b: [0.9720568]\n",
      "0200 cost:[ 0.2133322 ]  W: [0.7838434]  b: [1.064324]\n",
      "0300 cost:[ 0.16978762 ]  W: [0.8245045]  b: [0.96062094]\n",
      "0400 cost:[ 0.12961996 ]  W: [0.8593207]  b: [0.83937037]\n",
      "0500 cost:[ 0.094649084 ]  W: [0.8943468]  b: [0.71727204]\n",
      "0600 cost:[ 0.06620977 ]  W: [0.92800385]  b: [0.5999198]\n",
      "0700 cost:[ 0.04439754 ]  W: [0.95916116]  b: [0.49126557]\n",
      "0800 cost:[ 0.028538307 ]  W: [0.9870863]  b: [0.39387092]\n",
      "0900 cost:[ 0.017576596 ]  W: [1.0113881]  b: [0.30910763]\n",
      "1000 cost:[ 0.010364352 ]  W: [1.0319557]  b: [0.23736389]\n",
      "1100 cost:[ 0.0058450913 ]  W: [1.048901]  b: [0.17825434]\n",
      "1200 cost:[ 0.0031486396 ]  W: [1.0624961]  b: [0.13082987]\n",
      "1300 cost:[ 0.0016176623 ]  W: [1.0731183]  b: [0.09377544]\n",
      "1400 cost:[ 0.00079130696 ]  W: [1.0811988]  b: [0.06558705]\n",
      "1500 cost:[ 0.00036785388 ]  W: [1.0871811]  b: [0.04471817]\n",
      "1600 cost:[ 0.00016216631 ]  W: [1.0914888]  b: [0.02969127]\n",
      "1700 cost:[ 6.7641064e-05 ]  W: [1.094503]  b: [0.01917578]\n",
      "1800 cost:[ 2.66292e-05 ]  W: [1.096551]  b: [0.01203181]\n",
      "1900 cost:[ 9.868345e-06 ]  W: [1.0979004]  b: [0.00732429]\n",
      "2000 cost:[ 3.4315083e-06 ]  W: [1.0987619]  b: [0.00431915]\n",
      "2100 cost:[ 1.1166643e-06 ]  W: [1.0992937]  b: [0.00246387]\n",
      "2200 cost:[ 3.3895077e-07 ]  W: [1.0996109]  b: [0.00135723]\n",
      "2300 cost:[ 9.551993e-08 ]  W: [1.0997934]  b: [0.00072058]\n",
      "2400 cost:[ 2.4910756e-08 ]  W: [1.0998944]  b: [0.00036806]\n",
      "2500 cost:[ 6.0260503e-09 ]  W: [1.0999478]  b: [0.00018099]\n",
      "2600 cost:[ 1.372132e-09 ]  W: [1.0999752]  b: [8.601142e-05]\n",
      "2700 cost:[ 2.924395e-10 ]  W: [1.0999888]  b: [4.012661e-05]\n",
      "2800 cost:[ 5.256027e-11 ]  W: [1.099995]  b: [1.7030425e-05]\n",
      "2900 cost:[ 1.4836132e-11 ]  W: [1.0999973]  b: [8.970377e-06]\n",
      "3000 cost:[ 8.05187e-12 ]  W: [1.099998]  b: [6.189392e-06]\n",
      "***** Learning Finished!!\n"
     ]
    }
   ],
   "source": [
    "# 학습 시작\n",
    "print('***** Start Learning!!')\n",
    "for step in range(3001):\n",
    "    optimizer.minimize(cost_func,var_list=[W,b])\n",
    "    if step % 100 == 0:\n",
    "        print('%04d'%step,'cost:[',cost_func().numpy(),']',\n",
    "             ' W:',W.numpy(),' b:',b.numpy())\n",
    "print('***** Learning Finished!!') "
   ]
  },
  {
   "cell_type": "code",
   "execution_count": 7,
   "id": "f87573b0",
   "metadata": {},
   "outputs": [
    {
     "name": "stdout",
     "output_type": "stream",
     "text": [
      "Weight: [1.099998]\n",
      "Bias: [6.189392e-06]\n"
     ]
    }
   ],
   "source": [
    "# weight과 bias 출력\n",
    "print('Weight:',W.numpy())\n",
    "print('Bias:',b.numpy())"
   ]
  },
  {
   "cell_type": "code",
   "execution_count": 8,
   "id": "7cffcd9c",
   "metadata": {},
   "outputs": [
    {
     "name": "stdout",
     "output_type": "stream",
     "text": [
      "***** Predict\n",
      "x=6.0, H(x)= [6.599994]\n",
      "x=9.5, H(x)= [10.449986]\n",
      "x=12.3, H(x)= [13.529982]\n"
     ]
    }
   ],
   "source": [
    "# 예측\n",
    "print('***** Predict')\n",
    "print('x=6.0, H(x)=',hypothesis(6).numpy())\n",
    "print('x=9.5, H(x)=',hypothesis(9.5).numpy())\n",
    "print('x=12.3, H(x)=',hypothesis(12.3).numpy())"
   ]
  }
 ],
 "metadata": {
  "kernelspec": {
   "display_name": "Python 3 (ipykernel)",
   "language": "python",
   "name": "python3"
  },
  "language_info": {
   "codemirror_mode": {
    "name": "ipython",
    "version": 3
   },
   "file_extension": ".py",
   "mimetype": "text/x-python",
   "name": "python",
   "nbconvert_exporter": "python",
   "pygments_lexer": "ipython3",
   "version": "3.9.12"
  }
 },
 "nbformat": 4,
 "nbformat_minor": 5
}
