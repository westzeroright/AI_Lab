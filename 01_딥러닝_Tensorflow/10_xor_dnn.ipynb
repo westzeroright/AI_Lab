{
 "cells": [
  {
   "cell_type": "code",
   "execution_count": 2,
   "id": "debe0ecb",
   "metadata": {},
   "outputs": [],
   "source": [
    "# XOR : 2 layer\n",
    "# 이진 분류 : Logistic Regression\n",
    "# 활성화 함수 : sigmoid 함수 사용\n",
    "import tensorflow as tf\n",
    "import numpy as np\n",
    "tf.random.set_seed(5)"
   ]
  },
  {
   "cell_type": "code",
   "execution_count": 3,
   "id": "4e6e0b54",
   "metadata": {},
   "outputs": [],
   "source": [
    "# train data set \n",
    "x_data = [[0,0],\n",
    "          [0,1],\n",
    "          [1,0],\n",
    "          [1,1]]\n",
    "\n",
    "y_data = [[0],\n",
    "          [1],\n",
    "          [1],\n",
    "          [0]]\n",
    "\n",
    "x_train = np.array(x_data,dtype=np.float32)\n",
    "y_train = np.array(y_data,dtype=np.float32)"
   ]
  },
  {
   "cell_type": "code",
   "execution_count": 4,
   "id": "ec44aec9",
   "metadata": {},
   "outputs": [],
   "source": [
    "# Layer1 : 은닉층(Hidden Layer)\n",
    "# (4,2) * (2,2) = (4,2)\n",
    "W1 = tf.Variable(tf.random.normal([2,2]),name='weight1')\n",
    "b1 = tf.Variable(tf.random.normal([2]),name='bias1')\n",
    "\n",
    "def layer1(X):\n",
    "    return tf.sigmoid(tf.matmul(X,W1)+b1)"
   ]
  },
  {
   "cell_type": "code",
   "execution_count": 5,
   "id": "afcfdb03",
   "metadata": {},
   "outputs": [],
   "source": [
    "# Layer2 : 출력층(Output Layer)\n",
    "# (4,2) * (2,1) = (4,1)\n",
    "W2 = tf.Variable(tf.random.normal([2,1]),name='weight2')\n",
    "b2 = tf.Variable(tf.random.normal([1]),name='bias2')\n",
    "\n",
    "# 예측 함수(hypothesis) : H(X) = sigmoid(X*W + B)\n",
    "def hypothesis(X):\n",
    "    return tf.sigmoid(tf.matmul(layer1(X),W2) + b2)  # 0과 1사이의 값이 출력"
   ]
  },
  {
   "cell_type": "code",
   "execution_count": 6,
   "id": "4031eac4",
   "metadata": {},
   "outputs": [],
   "source": [
    "# 비용 함수 : logloss, 2진분류모델\n",
    "def cost_func():\n",
    "    cost = -tf.reduce_mean(y_train*tf.math.log(hypothesis(x_train)) +\n",
    "                          (1 - y_train)*tf.math.log(1-hypothesis(x_train)))\n",
    "    return cost"
   ]
  },
  {
   "cell_type": "code",
   "execution_count": 7,
   "id": "f4787d23",
   "metadata": {},
   "outputs": [],
   "source": [
    "# 경사 하강법\n",
    "# learning_rate(학습율)을 0.01 로 설정하여 optimizer객체를 생성\n",
    "optimizer = tf.keras.optimizers.Adam(learning_rate=0.01)"
   ]
  },
  {
   "cell_type": "code",
   "execution_count": 12,
   "id": "1db5d3e3",
   "metadata": {},
   "outputs": [
    {
     "name": "stdout",
     "output_type": "stream",
     "text": [
      "***** Start Learning!!\n",
      "0000 cost:[ 0.70215344 ]\n",
      "1000 cost:[ 0.025454212 ]\n",
      "2000 cost:[ 0.006889388 ]\n",
      "3000 cost:[ 0.0029849587 ]\n",
      "4000 cost:[ 0.0015245737 ]\n",
      "5000 cost:[ 0.00084137765 ]\n",
      "6000 cost:[ 0.0004838244 ]\n",
      "7000 cost:[ 0.00028475732 ]\n",
      "8000 cost:[ 0.00016985796 ]\n",
      "9000 cost:[ 0.00010216762 ]\n",
      "10000 cost:[ 6.175233e-05 ]\n",
      "***** Learning Finished!!\n"
     ]
    }
   ],
   "source": [
    "# 학습 시작\n",
    "print('***** Start Learning!!')\n",
    "for step in range(10001):\n",
    "    optimizer.minimize(cost_func,var_list=[W1,b1,W2,b2])\n",
    "    if step % 1000 == 0:\n",
    "        print('%04d'%step,'cost:[',cost_func().numpy(),']')\n",
    "print('***** Learning Finished!!') "
   ]
  },
  {
   "cell_type": "code",
   "execution_count": 13,
   "id": "d05994eb",
   "metadata": {},
   "outputs": [
    {
     "name": "stdout",
     "output_type": "stream",
     "text": [
      "Weight: [[-8.268405  -9.9117985]\n",
      " [-8.247083  -9.754979 ]]\n",
      "Bias: [12.438389  4.613273]\n",
      "Weight: [[ 20.247265]\n",
      " [-19.895039]]\n",
      "Bias: [-10.096137]\n"
     ]
    }
   ],
   "source": [
    "# weight과 bias 출력\n",
    "print('Weight:',W1.numpy())\n",
    "print('Bias:',b1.numpy())\n",
    "print('Weight:',W2.numpy())\n",
    "print('Bias:',b2.numpy())"
   ]
  },
  {
   "cell_type": "code",
   "execution_count": 15,
   "id": "6a446972",
   "metadata": {},
   "outputs": [
    {
     "name": "stdout",
     "output_type": "stream",
     "text": [
      "Accyracy: 1.0\n",
      "Hypothesis:\n",
      " [[7.1297138e-05]\n",
      " [9.9994075e-01]\n",
      " [9.9994135e-01]\n",
      " [5.7795431e-05]]\n",
      "Predict:\n",
      " [[0.]\n",
      " [1.]\n",
      " [1.]\n",
      " [0.]]\n"
     ]
    }
   ],
   "source": [
    "# 평가 : 정확도(accuracy)\n",
    "def predict(X):\n",
    "    return tf.cast(hypothesis(X) > 0.5 ,dtype=tf.float32)\n",
    "\n",
    "# 학습 데이터를 검증 데이터로 동일하게 사용하는 경우\n",
    "x_test = x_train\n",
    "y_test = y_train\n",
    "\n",
    "# 예측\n",
    "preds = predict(x_test)   \n",
    "\n",
    "\n",
    "# 정확도\n",
    "accuracy = tf.reduce_mean(tf.cast(tf.equal(preds,y_test),dtype=tf.float32))\n",
    "print('Accyracy:',accuracy.numpy())\n",
    "print('Hypothesis:\\n',hypothesis(x_test).numpy())\n",
    "print('Predict:\\n',preds.numpy())\n",
    "\n",
    "# 2층 신경망으로 XOR Problem 해결!!"
   ]
  },
  {
   "cell_type": "code",
   "execution_count": null,
   "id": "14956d83",
   "metadata": {},
   "outputs": [],
   "source": []
  }
 ],
 "metadata": {
  "kernelspec": {
   "display_name": "Python 3 (ipykernel)",
   "language": "python",
   "name": "python3"
  },
  "language_info": {
   "codemirror_mode": {
    "name": "ipython",
    "version": 3
   },
   "file_extension": ".py",
   "mimetype": "text/x-python",
   "name": "python",
   "nbconvert_exporter": "python",
   "pygments_lexer": "ipython3",
   "version": "3.9.12"
  }
 },
 "nbformat": 4,
 "nbformat_minor": 5
}
