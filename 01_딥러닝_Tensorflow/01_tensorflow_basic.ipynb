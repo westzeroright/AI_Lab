{
 "cells": [
  {
   "cell_type": "code",
   "execution_count": 1,
   "id": "a3a6459b",
   "metadata": {},
   "outputs": [
    {
     "data": {
      "text/plain": [
       "'2.10.0'"
      ]
     },
     "execution_count": 1,
     "metadata": {},
     "output_type": "execute_result"
    }
   ],
   "source": [
    "import tensorflow as tf\n",
    "tf.__version__"
   ]
  },
  {
   "cell_type": "code",
   "execution_count": 2,
   "id": "4b3b819e",
   "metadata": {},
   "outputs": [
    {
     "name": "stdout",
     "output_type": "stream",
     "text": [
      "tf.Tensor(b'Hello Tensroflow', shape=(), dtype=string)\n",
      "tf.Tensor(\n",
      "[[1. 3.]\n",
      " [3. 7.]], shape=(2, 2), dtype=float32)\n"
     ]
    }
   ],
   "source": [
    "# 상수 : tf.constant()\n",
    "s = tf.constant('Hello Tensroflow')\n",
    "print(s)\n",
    "a = tf.constant([[1.,2.],\n",
    "                 [3.,4.]])\n",
    "b = tf.constant([[1.,1.],\n",
    "                 [0.,1.]])\n",
    "c = tf.matmul(a,b)  # 내적 곱셈\n",
    "print(c)"
   ]
  },
  {
   "cell_type": "code",
   "execution_count": 3,
   "id": "82c1fa39",
   "metadata": {},
   "outputs": [
    {
     "name": "stdout",
     "output_type": "stream",
     "text": [
      "0x22499176cd0\n",
      "0x22499176e10\n",
      "0x22499176cd0\n",
      "0x22499176e10\n"
     ]
    },
    {
     "data": {
      "text/plain": [
       "40"
      ]
     },
     "execution_count": 3,
     "metadata": {},
     "output_type": "execute_result"
    }
   ],
   "source": [
    "# 파이썬은 모든 변수(함수)가 객체로 생성\n",
    "a = 30\n",
    "print(hex(id(a)))\n",
    "b = 40\n",
    "print(hex(id(b)))\n",
    "b = a\n",
    "print(hex(id(b)))\n",
    "b =40\n",
    "print(hex(id(b)))\n",
    "b"
   ]
  },
  {
   "cell_type": "code",
   "execution_count": 4,
   "id": "a7a0dd99",
   "metadata": {},
   "outputs": [
    {
     "name": "stdout",
     "output_type": "stream",
     "text": [
      "tf.Tensor(300, shape=(), dtype=int32)\n"
     ]
    }
   ],
   "source": [
    "# 변수 : tf.Variable()\n",
    "# 초기 값이 미리 설정,주로 텐서플로 내부에서 연산시 변경되는 변수에 사용,weight과 bias\n",
    "a = tf.Variable(100)\n",
    "b = tf.Variable(200)\n",
    "c = tf.add(a,b)\n",
    "print(c)\n",
    "     "
   ]
  },
  {
   "cell_type": "markdown",
   "id": "aca1149a",
   "metadata": {},
   "source": [
    "# tf.Tensor: 텐서 객체\n",
    "텐서는 다차원 배열로 넘파이(NumPy) ndarray 객체와 비슷하며,\n",
    "tf.Tensor 객체는 데이터 타입과 크기를 가지고 있다.\n",
    "또한 tf.Tensor는 GPU 같은 가속기 메모리에 상주할 수 있다.\n",
    "텐서플로는 텐서를 생성하고 이용하는 풍부한 연산 라이브러리(tf.add, tf.matmul, tf.linalg.inv 등.)를 제공하며\n",
    "연산수행 시 자동으로 텐서를 파이썬 네이티브(native) 타입으로 변환하여 연산한다"
   ]
  },
  {
   "cell_type": "code",
   "execution_count": 5,
   "id": "9ac2cb52",
   "metadata": {},
   "outputs": [
    {
     "name": "stdout",
     "output_type": "stream",
     "text": [
      "tf.Tensor(3, shape=(), dtype=int32)\n",
      "tf.Tensor([4 6], shape=(2,), dtype=int32)\n",
      "tf.Tensor(25, shape=(), dtype=int32)\n",
      "tf.Tensor(6, shape=(), dtype=int32)\n"
     ]
    }
   ],
   "source": [
    "# 연산자\n",
    "print(tf.add(1,2))\n",
    "print(tf.add([1,2],[3,4]))\n",
    "print(tf.square(5))\n",
    "print(tf.reduce_sum([1,2,3]))"
   ]
  },
  {
   "cell_type": "code",
   "execution_count": 6,
   "id": "3bde5803",
   "metadata": {},
   "outputs": [
    {
     "name": "stdout",
     "output_type": "stream",
     "text": [
      "tf.Tensor(\n",
      "[[1. 2.]\n",
      " [3. 4.]], shape=(2, 2), dtype=float32)\n",
      "<class 'tensorflow.python.framework.ops.EagerTensor'>\n",
      "(2, 2)\n",
      "<dtype: 'float32'>\n",
      "[[1. 2.]\n",
      " [3. 4.]] <class 'numpy.ndarray'>\n",
      "10 <class 'int'>\n"
     ]
    }
   ],
   "source": [
    "# 속성과 타입 변환\n",
    "a = tf.constant([[1.,2.],\n",
    "                 [3.,4.]])\n",
    "print(a)\n",
    "print(type(a))\n",
    "print(a.shape)\n",
    "print(a.dtype)\n",
    "\n",
    "# Tensor객체를 ndarray로 변환\n",
    "n = a.numpy()\n",
    "print(n, type(n)) # \n",
    "\n",
    "# 파이썬 native 타입으로 변환\n",
    "a = tf.constant(10)\n",
    "b = int(a)\n",
    "print(b, type(b))"
   ]
  }
 ],
 "metadata": {
  "kernelspec": {
   "display_name": "Python 3 (ipykernel)",
   "language": "python",
   "name": "python3"
  },
  "language_info": {
   "codemirror_mode": {
    "name": "ipython",
    "version": 3
   },
   "file_extension": ".py",
   "mimetype": "text/x-python",
   "name": "python",
   "nbconvert_exporter": "python",
   "pygments_lexer": "ipython3",
   "version": "3.9.12"
  }
 },
 "nbformat": 4,
 "nbformat_minor": 5
}
