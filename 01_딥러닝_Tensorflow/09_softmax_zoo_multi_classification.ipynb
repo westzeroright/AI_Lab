{
 "cells": [
  {
   "cell_type": "code",
   "execution_count": 1,
   "id": "44c8a74f",
   "metadata": {},
   "outputs": [],
   "source": [
    "# softmax_zoo_multi_classification\n",
    "\n",
    "# multi-classification\n",
    "# multi-nomial classification (다중 분류) : Y값의 범주가 3개 이상인 분류\n",
    "# 활성화 함수(Activation function) 으로 softmax함수 가 사용된다\n",
    "\n",
    "import tensorflow as tf\n",
    "import numpy as np\n",
    "tf.random.set_seed(5)"
   ]
  },
  {
   "cell_type": "code",
   "execution_count": 2,
   "id": "fa86b43c",
   "metadata": {},
   "outputs": [
    {
     "name": "stdout",
     "output_type": "stream",
     "text": [
      "(101, 17)\n",
      "(70, 16) (70, 1)\n",
      "(31, 16) (31, 1)\n"
     ]
    }
   ],
   "source": [
    "# 데이터 가져오기\n",
    "xy = np.loadtxt('data-04-zoo.csv',delimiter=',',dtype=np.float32)\n",
    "print(xy.shape) #(101,17)\n",
    "\n",
    "# 학습 데이터 : 70%, 70개\n",
    "x_train = xy[:70,:-1]\n",
    "y_train = xy[:70,[-1]]\n",
    "print(x_train.shape,y_train.shape) # (70, 16) (70, 1)\n",
    "\n",
    "# 검증 데이터 : 30%, 31개\n",
    "x_test = xy[70:,:-1]\n",
    "y_test = xy[70:,[-1]]\n",
    "print(x_test.shape,y_test.shape) # (31, 16) (31, 1)"
   ]
  },
  {
   "cell_type": "code",
   "execution_count": 3,
   "id": "7f80c59c",
   "metadata": {},
   "outputs": [
    {
     "name": "stdout",
     "output_type": "stream",
     "text": [
      "(70, 1, 7)\n",
      "(70, 7)\n"
     ]
    }
   ],
   "source": [
    "# one-hot 인코딩\n",
    "# 0 : [1 0 0 0 0 0 0]\n",
    "# 1 : [0 1 0 0 0 0 0]\n",
    "# ...\n",
    "# 6 : [0 0 0 0 0 0 1]\n",
    "\n",
    "nb_classes = 7 # class 범주 갯수 (0,1,2,3,4,5,6)\n",
    "\n",
    "Y_one_hot = tf.one_hot(y_train, nb_classes)\n",
    "print(Y_one_hot.shape) # (70,1,7), Rank=3(3차원)\n",
    "Y_one_hot = tf.reshape(Y_one_hot,[-1,nb_classes])\n",
    "print(Y_one_hot.shape) # (70,7), Rank = 2(2차원)"
   ]
  },
  {
   "cell_type": "code",
   "execution_count": 4,
   "id": "254f35a4",
   "metadata": {},
   "outputs": [],
   "source": [
    "# 변수 초기화 : weight, bias\n",
    "#   X   *   W   = Y\n",
    "# (m,n) * (n,l) = (m,l)   : 행렬의 내적 곱셈 공식\n",
    "# (70,16) * (16,7) = (70,7)\n",
    "W = tf.Variable(tf.random.normal([16,nb_classes]),name='weight')\n",
    "b = tf.Variable(tf.random.normal([nb_classes]),name='bias')"
   ]
  },
  {
   "cell_type": "code",
   "execution_count": 5,
   "id": "98187cff",
   "metadata": {},
   "outputs": [],
   "source": [
    "# 예측 함수(hypothesis) : H(X) = softmax(X*W + B)\n",
    "def logits(X):\n",
    "    return tf.matmul(X,W) + b\n",
    "\n",
    "def hypothesis(X):\n",
    "    return tf.nn.softmax(logits(X))  "
   ]
  },
  {
   "cell_type": "code",
   "execution_count": 6,
   "id": "89e06980",
   "metadata": {},
   "outputs": [],
   "source": [
    "#  비용함수 구현 방법 2 : tf.nn.softmax_cross_entropy_with_logits() 함수 사용\n",
    "def cost_func():\n",
    "    cost_i = tf.nn.softmax_cross_entropy_with_logits(logits=logits(x_train),\n",
    "                                                    labels=Y_one_hot)\n",
    "    cost = tf.reduce_mean(cost_i)\n",
    "    return cost"
   ]
  },
  {
   "cell_type": "code",
   "execution_count": 7,
   "id": "af286e73",
   "metadata": {},
   "outputs": [],
   "source": [
    "# 경사 하강법\n",
    "# learning_rate(학습율)을 0.01 로 설정하여 optimizer객체를 생성\n",
    "optimizer = tf.keras.optimizers.Adam(learning_rate=0.01)"
   ]
  },
  {
   "cell_type": "code",
   "execution_count": 8,
   "id": "85d8907a",
   "metadata": {},
   "outputs": [
    {
     "name": "stdout",
     "output_type": "stream",
     "text": [
      "***** Start Learning!!\n",
      "0000 cost:[ 4.3771973 ]\n",
      "1000 cost:[ 0.0036812557 ]\n",
      "2000 cost:[ 0.0011356671 ]\n",
      "3000 cost:[ 0.0005179679 ]\n",
      "4000 cost:[ 0.0002727554 ]\n",
      "5000 cost:[ 0.00015376032 ]\n",
      "***** Learning Finished!!\n"
     ]
    }
   ],
   "source": [
    "# 학습 시작\n",
    "print('***** Start Learning!!')\n",
    "for step in range(5001):\n",
    "    optimizer.minimize(cost_func,var_list=[W,b])\n",
    "    if step % 1000 == 0:\n",
    "        print('%04d'%step,'cost:[',cost_func().numpy(),']')\n",
    "            \n",
    "print('***** Learning Finished!!') "
   ]
  },
  {
   "cell_type": "code",
   "execution_count": 9,
   "id": "26f4ccf0",
   "metadata": {},
   "outputs": [],
   "source": [
    "# weight과 bias 출력\n",
    "# print('Weight:',W.numpy())\n",
    "# print('Bias:',b.numpy())"
   ]
  },
  {
   "cell_type": "code",
   "execution_count": 10,
   "id": "f76e3cf6",
   "metadata": {},
   "outputs": [
    {
     "name": "stdout",
     "output_type": "stream",
     "text": [
      "(31, 1, 7)\n",
      "(31, 7)\n",
      "Accuracy: 0.8064516\n"
     ]
    }
   ],
   "source": [
    "# 정확도 측정(평가)\n",
    "\n",
    "# y_test값을 one-hot인코딩\n",
    "Y_one_hot = tf.one_hot(y_test,nb_classes)  \n",
    "print(Y_one_hot.shape)                     # (31,1,7), Rank=3 (3차원)\n",
    "Y_one_hot = tf.reshape(Y_one_hot,[-1,nb_classes])\n",
    "print(Y_one_hot.shape)                     # (30,7), Rank=2 (2차원)\n",
    "\n",
    "def predict(X):\n",
    "    return tf.argmax(hypothesis(X),axis=1)\n",
    "\n",
    "correct_predict = tf.equal(predict(x_test),tf.argmax(Y_one_hot,1))\n",
    "accuracy = tf.reduce_mean(tf.cast(correct_predict,dtype=tf.float32))\n",
    "print('Accuracy:',accuracy.numpy())  # Accuracy: 0.8064516"
   ]
  }
 ],
 "metadata": {
  "kernelspec": {
   "display_name": "Python 3 (ipykernel)",
   "language": "python",
   "name": "python3"
  },
  "language_info": {
   "codemirror_mode": {
    "name": "ipython",
    "version": 3
   },
   "file_extension": ".py",
   "mimetype": "text/x-python",
   "name": "python",
   "nbconvert_exporter": "python",
   "pygments_lexer": "ipython3",
   "version": "3.9.12"
  }
 },
 "nbformat": 4,
 "nbformat_minor": 5
}
