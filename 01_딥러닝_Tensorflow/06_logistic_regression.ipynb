{
 "cells": [
  {
   "cell_type": "code",
   "execution_count": 1,
   "id": "49d11886",
   "metadata": {},
   "outputs": [],
   "source": [
    "# 06_logistic_regression"
   ]
  },
  {
   "cell_type": "markdown",
   "id": "8a0e0fd4",
   "metadata": {},
   "source": [
    "# sigmoid 함수\n"
   ]
  },
  {
   "cell_type": "code",
   "execution_count": 2,
   "id": "54baaa7f",
   "metadata": {},
   "outputs": [
    {
     "name": "stdout",
     "output_type": "stream",
     "text": [
      "3.7200759760208555e-44\n",
      "4.539786870243442e-05\n",
      "0.5\n",
      "0.9999546021312976\n",
      "1.0\n"
     ]
    }
   ],
   "source": [
    "import math\n",
    "import matplotlib.pyplot as plt\n",
    "\n",
    "def sigmoid(z):\n",
    "    return 1./(1. + math.e**-z)\n",
    "\n",
    "# print(math.e)  # 2.718281828459045\n",
    "\n",
    "print(sigmoid(-100)) # 0에 수렴\n",
    "print(sigmoid(-10)) \n",
    "print(sigmoid(0))    # 0.5\n",
    "print(sigmoid(10)) \n",
    "print(sigmoid(100))  # 1.0에 수렴"
   ]
  },
  {
   "cell_type": "code",
   "execution_count": 3,
   "id": "cee9764a",
   "metadata": {},
   "outputs": [
    {
     "data": {
      "text/plain": [
       "2.718281828459045"
      ]
     },
     "execution_count": 3,
     "metadata": {},
     "output_type": "execute_result"
    }
   ],
   "source": [
    "math.e"
   ]
  },
  {
   "cell_type": "code",
   "execution_count": 4,
   "id": "1d676569",
   "metadata": {},
   "outputs": [
    {
     "data": {
      "image/png": "[encoded data removed]",
      "text/plain": [
       "<Figure size 432x288 with 1 Axes>"
      ]
     },
     "metadata": {
      "needs_background": "light"
     },
     "output_type": "display_data"
    }
   ],
   "source": [
    "# 시각화\n",
    "xx,yy=[],[]\n",
    "for k in range(-100,101):\n",
    "    n = sigmoid(k/10)\n",
    "    \n",
    "    xx.append(k/10)\n",
    "    yy.append(n)\n",
    "\n",
    "plt.plot(xx,yy,'ro') \n",
    "plt.grid()"
   ]
  },
  {
   "cell_type": "markdown",
   "id": "e5713dca",
   "metadata": {},
   "source": [
    "### Logistic Regression : 2진 분류(Binary Classification)\n",
    ": 2진 분류의 활성화 함수로는 sigmoid가 사용됨"
   ]
  },
  {
   "cell_type": "code",
   "execution_count": 5,
   "id": "1300999e",
   "metadata": {},
   "outputs": [],
   "source": [
    "import tensorflow as tf\n",
    "import numpy as np\n",
    "tf.random.set_seed(5)"
   ]
  },
  {
   "cell_type": "code",
   "execution_count": 6,
   "id": "5d5583a7",
   "metadata": {},
   "outputs": [],
   "source": [
    "# x_data : [6,2]\n",
    "x_data = [[1,2],\n",
    "          [2,3],\n",
    "          [3,1],\n",
    "          [4,3],\n",
    "          [5,3],\n",
    "          [6,2]]\n",
    "\n",
    "# y_data : [6,1]\n",
    "y_data = [[0],\n",
    "          [0],\n",
    "          [0],\n",
    "          [1],\n",
    "          [1],\n",
    "          [1]]\n",
    "x_train = np.array(x_data,dtype=np.float32)\n",
    "y_train = np.array(y_data,dtype=np.float32)"
   ]
  },
  {
   "cell_type": "code",
   "execution_count": 7,
   "id": "9166ba34",
   "metadata": {},
   "outputs": [
    {
     "name": "stdout",
     "output_type": "stream",
     "text": [
      "<tf.Variable 'weight:0' shape=(2, 1) dtype=float32, numpy=\n",
      "array([[-0.18030666],\n",
      "       [-0.95028627]], dtype=float32)>\n",
      "<tf.Variable 'bias:0' shape=(1,) dtype=float32, numpy=array([0.22652863], dtype=float32)>\n"
     ]
    }
   ],
   "source": [
    "# 변수 초기화 : weight, bias\n",
    "# (m,n) * (n,l) = (m,l)   : 행렬의 내적 곱셈 공식\n",
    "# (6,2) * (2,1) = (6,1)\n",
    "W = tf.Variable(tf.random.normal([2,1]),name='weight')\n",
    "b = tf.Variable(tf.random.normal([1]),name='bias')\n",
    "print(W)\n",
    "print(b)"
   ]
  },
  {
   "cell_type": "code",
   "execution_count": 8,
   "id": "b6f8cea0",
   "metadata": {},
   "outputs": [],
   "source": [
    "# 예측 함수(hypothesis) : H(X) = sigmoid(X*W + B)\n",
    "def hypothesis(X):\n",
    "    return tf.sigmoid(tf.matmul(X,W) + b)  # 0과 1사이의 값이 출력"
   ]
  },
  {
   "cell_type": "code",
   "execution_count": 9,
   "id": "c246f5af",
   "metadata": {},
   "outputs": [],
   "source": [
    "# 비용 함수 : logloss, 2진분류모델\n",
    "def cost_func():\n",
    "    cost = -tf.reduce_mean(y_train*tf.math.log(hypothesis(x_train)) +\n",
    "                          (1 - y_train)*tf.math.log(1-hypothesis(x_train)))\n",
    "    return cost"
   ]
  },
  {
   "cell_type": "code",
   "execution_count": 10,
   "id": "2b7a9b93",
   "metadata": {},
   "outputs": [],
   "source": [
    "# 경사 하강법\n",
    "# learning_rate(학습율)을 0.01 로 설정하여 optimizer객체를 생성\n",
    "optimizer = tf.keras.optimizers.Adam(learning_rate=0.01)"
   ]
  },
  {
   "cell_type": "code",
   "execution_count": 11,
   "id": "89ddf6de",
   "metadata": {},
   "outputs": [
    {
     "name": "stdout",
     "output_type": "stream",
     "text": [
      "***** Start Learning!!\n",
      "0000 cost:[ 1.661137 ]  W: [[-0.17030667]\n",
      " [-0.9402863 ]]  b: [0.23652855]\n",
      "1000 cost:[ 0.17934637 ]  W: [[1.3178084]\n",
      " [0.1972357]]  b: [-4.7614303]\n",
      "2000 cost:[ 0.07253333 ]  W: [[2.0121024]\n",
      " [0.8405848]]  b: [-8.711953]\n",
      "3000 cost:[ 0.03700613 ]  W: [[2.6189137]\n",
      " [1.2299302]]  b: [-11.698347]\n",
      "4000 cost:[ 0.020763235 ]  W: [[3.1709244]\n",
      " [1.5396556]]  b: [-14.285829]\n",
      "5000 cost:[ 0.012184962 ]  W: [[3.692799 ]\n",
      " [1.8153365]]  b: [-16.680557]\n",
      "6000 cost:[ 0.007318981 ]  W: [[4.197648]\n",
      " [2.074366]]  b: [-18.973688]\n",
      "7000 cost:[ 0.0044522597 ]  W: [[4.6926703]\n",
      " [2.3246489]]  b: [-21.210665]\n",
      "8000 cost:[ 0.002727745 ]  W: [[5.181943]\n",
      " [2.570163]]  b: [-23.415743]\n",
      "9000 cost:[ 0.0016780336 ]  W: [[5.6678133]\n",
      " [2.812966 ]]  b: [-25.60229]\n",
      "10000 cost:[ 0.0010347451 ]  W: [[6.1516347]\n",
      " [3.054243 ]]  b: [-27.777966]\n",
      "***** Learning Finished!!\n"
     ]
    }
   ],
   "source": [
    "# 학습 시작\n",
    "print('***** Start Learning!!')\n",
    "for step in range(10001):\n",
    "    optimizer.minimize(cost_func,var_list=[W,b])\n",
    "    if step % 1000 == 0:\n",
    "        print('%04d'%step,'cost:[',cost_func().numpy(),']',\n",
    "             ' W:',W.numpy(),' b:',b.numpy())\n",
    "print('***** Learning Finished!!') "
   ]
  },
  {
   "cell_type": "code",
   "execution_count": 12,
   "id": "7696da29",
   "metadata": {},
   "outputs": [
    {
     "name": "stdout",
     "output_type": "stream",
     "text": [
      "Weight: [[6.1516347]\n",
      " [3.054243 ]]\n",
      "Bias: [-27.777966]\n"
     ]
    }
   ],
   "source": [
    "# weight과 bias 출력\n",
    "print('Weight:',W.numpy())\n",
    "print('Bias:',b.numpy())"
   ]
  },
  {
   "cell_type": "code",
   "execution_count": 14,
   "id": "76ab1734",
   "metadata": {},
   "outputs": [
    {
     "name": "stdout",
     "output_type": "stream",
     "text": [
      "tf.Tensor(\n",
      "[[0.]\n",
      " [0.]\n",
      " [0.]\n",
      " [1.]\n",
      " [1.]\n",
      " [1.]], shape=(6, 1), dtype=float32)\n",
      "Accuracy: 1.0\n",
      "Hypothesis:\n",
      " [[1.8225749e-07]\n",
      " [1.8111762e-03]\n",
      " [1.8908845e-03]\n",
      " [9.9750584e-01]\n",
      " [9.9999470e-01]\n",
      " [9.9999976e-01]]\n",
      "Predict:\n",
      " [[0.]\n",
      " [0.]\n",
      " [0.]\n",
      " [1.]\n",
      " [1.]\n",
      " [1.]]\n"
     ]
    }
   ],
   "source": [
    "# 평가 : 정확도(accuracy)\n",
    "def predict(X):\n",
    "    return tf.cast(hypothesis(X) > 0.5 ,dtype=tf.float32)\n",
    "\n",
    "# 학습 데이터를 그대로 검증 데이터로 사용하여 예측한 경우\n",
    "x_test = x_train\n",
    "y_test = y_train\n",
    "\n",
    "# 예측\n",
    "preds = predict(x_test)   \n",
    "print(preds)\n",
    "\n",
    "# 정확도\n",
    "accuracy = tf.reduce_mean(tf.cast(tf.equal(preds,y_test),dtype=tf.float32))\n",
    "print('Accuracy:',accuracy.numpy())\n",
    "print('Hypothesis:\\n',hypothesis(x_test).numpy())\n",
    "print('Predict:\\n',preds.numpy())"
   ]
  },
  {
   "cell_type": "code",
   "execution_count": 15,
   "id": "6e2d8519",
   "metadata": {},
   "outputs": [
    {
     "name": "stdout",
     "output_type": "stream",
     "text": [
      "***** Predict\n",
      "[[0.]\n",
      " [0.]\n",
      " [0.]\n",
      " [1.]\n",
      " [1.]\n",
      " [1.]]\n"
     ]
    }
   ],
   "source": [
    "# 예측\n",
    "print('***** Predict')\n",
    "# x_data = [[1,2],\n",
    "#           [2,3],\n",
    "#           [3,1],\n",
    "#           [4,3],\n",
    "#           [5,3],\n",
    "#           [6,2]]\n",
    "x_data = [[1,1],\n",
    "          [2,5],\n",
    "          [3,3],\n",
    "          [4,4],\n",
    "          [5,2],\n",
    "          [6,6]]\n",
    "x_test = np.array(x_data,dtype=np.float32)\n",
    "preds = predict(x_test)\n",
    "print(preds.numpy())"
   ]
  }
 ],
 "metadata": {
  "kernelspec": {
   "display_name": "Python 3 (ipykernel)",
   "language": "python",
   "name": "python3"
  },
  "language_info": {
   "codemirror_mode": {
    "name": "ipython",
    "version": 3
   },
   "file_extension": ".py",
   "mimetype": "text/x-python",
   "name": "python",
   "nbconvert_exporter": "python",
   "pygments_lexer": "ipython3",
   "version": "3.9.12"
  }
 },
 "nbformat": 4,
 "nbformat_minor": 5
}
