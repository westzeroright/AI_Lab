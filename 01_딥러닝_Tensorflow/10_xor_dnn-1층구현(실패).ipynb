{
 "cells": [
  {
   "cell_type": "code",
   "execution_count": 3,
   "id": "a1270c7e",
   "metadata": {},
   "outputs": [],
   "source": [
    "# XOR : 1 layer\n",
    "# 이진 분류 : Logistic Regression\n",
    "# 활성화 함수 : sigmoid 함수 사용\n",
    "import tensorflow as tf\n",
    "import numpy as np\n",
    "tf.random.set_seed(5)"
   ]
  },
  {
   "cell_type": "code",
   "execution_count": 4,
   "id": "e0467945",
   "metadata": {},
   "outputs": [],
   "source": [
    "# train data set \n",
    "x_data = [[0,0],\n",
    "          [0,1],\n",
    "          [1,0],\n",
    "          [1,1]]\n",
    "\n",
    "y_data = [[0],\n",
    "          [1],\n",
    "          [1],\n",
    "          [0]]\n",
    "\n",
    "x_train = np.array(x_data,dtype=np.float32)\n",
    "y_train = np.array(y_data,dtype=np.float32)"
   ]
  },
  {
   "cell_type": "code",
   "execution_count": 5,
   "id": "d02f7c55",
   "metadata": {},
   "outputs": [
    {
     "name": "stdout",
     "output_type": "stream",
     "text": [
      "<tf.Variable 'weight:0' shape=(2, 1) dtype=float32, numpy=\n",
      "array([[-0.18030666],\n",
      "       [-0.95028627]], dtype=float32)>\n",
      "<tf.Variable 'bias:0' shape=(1,) dtype=float32, numpy=array([0.22652863], dtype=float32)>\n"
     ]
    }
   ],
   "source": [
    "# 변수 초기화 : weight, bias\n",
    "#   X   *   W   = Y\n",
    "# (m,n) * (n,l) = (m,l)   : 행렬의 내적 곱셈 공식\n",
    "# (4,2) * (2,1) = (4,1)\n",
    "W = tf.Variable(tf.random.normal([2,1]),name='weight')\n",
    "b = tf.Variable(tf.random.normal([1]),name='bias')\n",
    "print(W)\n",
    "print(b)"
   ]
  },
  {
   "cell_type": "code",
   "execution_count": 6,
   "id": "fc1a0159",
   "metadata": {},
   "outputs": [],
   "source": [
    "# 예측 함수(hypothesis) : H(X) = sigmoid(X*W + B)\n",
    "def hypothesis(X):\n",
    "    return tf.sigmoid(tf.matmul(X,W) + b)  # 0과 1사이의 값이 출력"
   ]
  },
  {
   "cell_type": "code",
   "execution_count": 7,
   "id": "9baf7340",
   "metadata": {},
   "outputs": [],
   "source": [
    "# 비용 함수 : logloss, 2진분류모델\n",
    "def cost_func():\n",
    "    cost = -tf.reduce_mean(y_train*tf.math.log(hypothesis(x_train)) +\n",
    "                          (1 - y_train)*tf.math.log(1-hypothesis(x_train)))\n",
    "    return cost"
   ]
  },
  {
   "cell_type": "code",
   "execution_count": 8,
   "id": "3ccd3901",
   "metadata": {},
   "outputs": [],
   "source": [
    "# 경사 하강법\n",
    "# learning_rate(학습율)을 0.01 로 설정하여 optimizer객체를 생성\n",
    "optimizer = tf.keras.optimizers.Adam(learning_rate=0.01)"
   ]
  },
  {
   "cell_type": "code",
   "execution_count": 9,
   "id": "f93cef92",
   "metadata": {},
   "outputs": [
    {
     "name": "stdout",
     "output_type": "stream",
     "text": [
      "***** Start Learning!!\n",
      "0000 cost:[ 0.7333479 ]  W: [[-0.1703073]\n",
      " [-0.9402866]]  b: [0.23652823]\n",
      "1000 cost:[ 0.6931472 ]  W: [[1.6602307e-08]\n",
      " [2.4315691e-08]]  b: [-4.7717077e-08]\n",
      "2000 cost:[ 0.6931472 ]  W: [[1.6602307e-08]\n",
      " [2.4315691e-08]]  b: [-4.7717077e-08]\n",
      "3000 cost:[ 0.6931472 ]  W: [[1.6602307e-08]\n",
      " [2.4315691e-08]]  b: [-4.7717077e-08]\n",
      "4000 cost:[ 0.6931472 ]  W: [[1.6602307e-08]\n",
      " [2.4315691e-08]]  b: [-4.7717077e-08]\n",
      "5000 cost:[ 0.6931472 ]  W: [[1.6602307e-08]\n",
      " [2.4315691e-08]]  b: [-4.7717077e-08]\n",
      "6000 cost:[ 0.6931472 ]  W: [[1.6602307e-08]\n",
      " [2.4315691e-08]]  b: [-4.7717077e-08]\n",
      "7000 cost:[ 0.6931472 ]  W: [[1.6602307e-08]\n",
      " [2.4315691e-08]]  b: [-4.7717077e-08]\n",
      "8000 cost:[ 0.6931472 ]  W: [[1.6602307e-08]\n",
      " [2.4315691e-08]]  b: [-4.7717077e-08]\n",
      "9000 cost:[ 0.6931472 ]  W: [[1.6602307e-08]\n",
      " [2.4315691e-08]]  b: [-4.7717077e-08]\n",
      "10000 cost:[ 0.6931472 ]  W: [[1.6602307e-08]\n",
      " [2.4315691e-08]]  b: [-4.7717077e-08]\n",
      "***** Learning Finished!!\n"
     ]
    }
   ],
   "source": [
    "# 학습 시작\n",
    "print('***** Start Learning!!')\n",
    "for step in range(10001):\n",
    "    optimizer.minimize(cost_func,var_list=[W,b])\n",
    "    if step % 1000 == 0:\n",
    "        print('%04d'%step,'cost:[',cost_func().numpy(),']',\n",
    "             ' W:',W.numpy(),' b:',b.numpy())\n",
    "print('***** Learning Finished!!') "
   ]
  },
  {
   "cell_type": "code",
   "execution_count": 10,
   "id": "495fff08",
   "metadata": {},
   "outputs": [
    {
     "name": "stdout",
     "output_type": "stream",
     "text": [
      "Weight: [[1.6602307e-08]\n",
      " [2.4315691e-08]]\n",
      "Bias: [-4.7717077e-08]\n"
     ]
    }
   ],
   "source": [
    "# weight과 bias 출력\n",
    "print('Weight:',W.numpy())\n",
    "print('Bias:',b.numpy())"
   ]
  },
  {
   "cell_type": "code",
   "execution_count": 12,
   "id": "d466667c",
   "metadata": {},
   "outputs": [
    {
     "name": "stdout",
     "output_type": "stream",
     "text": [
      "[0 0 0 0]\n",
      "[[0.49999997]\n",
      " [0.5       ]\n",
      " [0.49999997]\n",
      " [0.5       ]]\n"
     ]
    }
   ],
   "source": [
    "# 예측\n",
    "# tf.argmax() : 값이 가장 큰 요소의 인덱스 값을 반환\n",
    "def predict(X):\n",
    "    return tf.argmax(hypothesis(X),axis=1)\n",
    "\n",
    "# 학습 데이터를 검증 데이터로 동일하게 사용하는 경우\n",
    "x_test = x_train\n",
    "y_test = y_train\n",
    "\n",
    "preds = predict(x_test)\n",
    "print(preds.numpy())\n",
    "print(hypothesis(x_test).numpy())\n",
    "\n",
    "# 1층(단층) 신경망으로 XOR Problem 해결 불가"
   ]
  },
  {
   "cell_type": "code",
   "execution_count": null,
   "id": "29fb5637",
   "metadata": {},
   "outputs": [],
   "source": []
  }
 ],
 "metadata": {
  "kernelspec": {
   "display_name": "Python 3 (ipykernel)",
   "language": "python",
   "name": "python3"
  },
  "language_info": {
   "codemirror_mode": {
    "name": "ipython",
    "version": 3
   },
   "file_extension": ".py",
   "mimetype": "text/x-python",
   "name": "python",
   "nbconvert_exporter": "python",
   "pygments_lexer": "ipython3",
   "version": "3.9.12"
  }
 },
 "nbformat": 4,
 "nbformat_minor": 5
}
