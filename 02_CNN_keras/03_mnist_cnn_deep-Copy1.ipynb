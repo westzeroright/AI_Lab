{
 "cells": [
  {
   "cell_type": "code",
   "execution_count": 1,
   "id": "f444c963",
   "metadata": {},
   "outputs": [],
   "source": [
    "# mnist_cnn\n",
    "# MNIST and Convolutional Neural Network\n",
    "# L1,L2 : conv2d + relu + max_pool \n",
    "# L3 : FC(Fully Connected Layer)\n",
    "\n",
    "import tensorflow as tf\n",
    "import numpy as np\n",
    "import matplotlib.pyplot as plt\n",
    "tf.random.set_seed(5)"
   ]
  },
  {
   "cell_type": "code",
   "execution_count": 2,
   "id": "436f4f60",
   "metadata": {},
   "outputs": [
    {
     "name": "stdout",
     "output_type": "stream",
     "text": [
      "(60000, 28, 28)\n"
     ]
    }
   ],
   "source": [
    "# mnist 데이터 가져오기\n",
    "mnist = tf.keras.datasets.mnist\n",
    "(x_train,y_train),(x_test,y_test) = mnist.load_data()\n",
    "print(x_train.shape)"
   ]
  },
  {
   "cell_type": "code",
   "execution_count": 3,
   "id": "e7ba0826",
   "metadata": {},
   "outputs": [
    {
     "name": "stdout",
     "output_type": "stream",
     "text": [
      "(60000, 10)\n",
      "(60000, 28, 28) <dtype: 'float32'>\n",
      "(10000, 28, 28) <dtype: 'float32'>\n"
     ]
    }
   ],
   "source": [
    "# one-hot 인코딩\n",
    "nb_classes = 10  # 분류 class의 갯수(0~9)\n",
    "\n",
    "Y_one_hot = tf.one_hot(y_train,nb_classes)   # (60000, 10)\n",
    "print(Y_one_hot.shape)                       # (60000, 10) , (2차원)\n",
    "\n",
    "# X값의 타입을 float형으로 변환\n",
    "x_train = tf.cast(x_train,dtype=tf.float32)\n",
    "print(x_train.shape,x_train.dtype)\n",
    "\n",
    "x_test = tf.cast(x_test,dtype=tf.float32)\n",
    "print(x_test.shape,x_test.dtype)"
   ]
  },
  {
   "cell_type": "code",
   "execution_count": 4,
   "id": "d565c967",
   "metadata": {},
   "outputs": [
    {
     "name": "stdout",
     "output_type": "stream",
     "text": [
      "(60000, 28, 28, 1)\n"
     ]
    }
   ],
   "source": [
    "# X값의 shape을 4차원으로 변환\n",
    "x_img = tf.reshape(x_train,[-1,28,28,1])\n",
    "print(x_img.shape) # (60000, 28, 28, 1)"
   ]
  },
  {
   "cell_type": "code",
   "execution_count": 5,
   "id": "d1ff048d",
   "metadata": {},
   "outputs": [],
   "source": [
    "# Layer 1 : conv2d - relu - max_pool\n",
    "# (?,28,28,1) --> (?, 14, 14, 32)\n",
    "\n",
    "# <1> conv2d\n",
    "# L1 input image shape : (?, 28, 28, 1)\n",
    "# filter : (3,3,1,32), 필터 32개\n",
    "# strides : (1,1,1,1), padding='SAME'\n",
    "# 출력 이미지 : (28+2 - 3)/1 + 1 = 28\n",
    "# (?, 28, 28, 1) --> (?, 28, 28, 32)\n",
    "W1 = tf.Variable(tf.random.normal([3,3,1,32]),name='weight1')\n",
    "\n",
    "def L1_conv2d(X):\n",
    "    return tf.nn.conv2d(X,W1,strides=[1,1,1,1],padding='SAME')\n",
    "\n",
    "#  <2> relu\n",
    "def L1_relu(X):\n",
    "    return tf.nn.relu(L1_conv2d(X)) # shape 변화가 없음\n",
    "\n",
    "# <3> max_pool\n",
    "# input image : (?, 28, 28, 32)\n",
    "# ksize : (1,2,2,1), strides : (1,2,2,1), padding='SAME'\n",
    "# 출력 이미지 : (28+1 - 2)/2 + 1 = 14\n",
    "#  (?, 28, 28, 32) -->  (?, 14, 14, 32)\n",
    "def L1_MaxPool(X):\n",
    "    return tf.nn.max_pool(L1_relu(X),ksize=[1,2,2,1],strides=[1,2,2,1],padding='SAME')"
   ]
  },
  {
   "cell_type": "code",
   "execution_count": 6,
   "id": "1c980a5b",
   "metadata": {},
   "outputs": [],
   "source": [
    "# Layer 2 : conv2d - relu - max_pool - flatten\n",
    "# (?, 14, 14, 32) --> (?, 7, 7, 64) \n",
    "# <1> conv2d\n",
    "# L2 input image shape : (?, 14, 14, 32)\n",
    "# filter : (3,3,32,64), 필터 64개\n",
    "# strides : (1,1,1,1), padding='SAME'\n",
    "# 출력 이미지 : (14+2 - 3)/1 + 1 = 14\n",
    "# (?, 14, 14, 32) --> (?, 14, 14, 64)\n",
    "W2 = tf.Variable(tf.random.normal([3,3,32,64]),name='weight2')\n",
    "\n",
    "def L2_conv2d(X):\n",
    "    return tf.nn.conv2d(L1_MaxPool(X),W2,strides=[1,1,1,1],padding='SAME')\n",
    "\n",
    "#  <2> relu\n",
    "def L2_relu(X):\n",
    "    return tf.nn.relu(L2_conv2d(X)) # shape 변화가 없음\n",
    "\n",
    "# <3> max_pool\n",
    "# input image : (?, 14,14,64)\n",
    "# ksize : (1,2,2,1), strides : (1,2,2,1), padding='SAME'\n",
    "# 출력 이미지 : (14+1 - 2)/2 + 1 = 7\n",
    "#  (?, 14,14,64) -->  (?,7,7,64)\n",
    "def L2_MaxPool(X):\n",
    "    return tf.nn.max_pool(L2_relu(X),ksize=[1,2,2,1],strides=[1,2,2,1],padding='SAME')\n",
    "\n"
   ]
  },
  {
   "cell_type": "code",
   "execution_count": 7,
   "id": "05a90027",
   "metadata": {},
   "outputs": [],
   "source": [
    "# Layer 3 : conv2d - relu - max_pool - flatten\n",
    "# (?, 7, 7, 64) --> (?,4,4,128)\n",
    "\n",
    "# <1> conv2d\n",
    "W3 = tf.Variable(tf.random.normal([3,3,64,128]),name='weight3')\n",
    "\n",
    "def L3_conv2d(X):\n",
    "    return tf.nn.conv2d(L2_MaxPool(X),W3,strides=[1,1,1,1],padding='SAME')\n",
    "\n",
    "#  <2> relu\n",
    "def L3_relu(X):\n",
    "    return tf.nn.relu(L3_conv2d(X)) # shape 변화가 없음\n",
    "\n",
    "# <3> max_pool\n",
    "\n",
    "def L3_MaxPool(X):\n",
    "    return tf.nn.max_pool(L3_relu(X),ksize=[1,2,2,1],strides=[1,2,2,1],padding='SAME')\n",
    "\n",
    "# <4> flatten layer : : 다차원 배열을 2차원으로 변환하여 FC layer에 전달한다\n",
    "def L3_Flat(X):\n",
    "    return tf.reshape(L3_MaxPool(X),[-1,4*4*128])\n"
   ]
  },
  {
   "cell_type": "code",
   "execution_count": 8,
   "id": "9110b42a",
   "metadata": {},
   "outputs": [],
   "source": [
    "# Layer 4 : FC(Fully Connected Layer)\n",
    "# (?,4*4*128) * (4*4*128,10) = (?, 10)\n",
    "W4 = tf.Variable(tf.random.normal([4*4*128,512]), name='weight4')\n",
    "b4 = tf.Variable(tf.random.normal([512]), name='bias4')\n",
    "\n",
    "def layer4(X):\n",
    "    # return  tf.sigmoid(tf.matmul(layer3(X),W4) + b4) \n",
    "    return  tf.nn.relu(tf.matmul(L3_Flat(X),W4) + b4) "
   ]
  },
  {
   "cell_type": "code",
   "execution_count": 9,
   "id": "3b7a1e07",
   "metadata": {},
   "outputs": [],
   "source": [
    "# Layer 5 : FC(Fully Connected Layer), 출력층\n",
    "# (?,7*7*64) * (7*7*64,10) = (?, 10)\n",
    "W5 = tf.Variable(tf.random.normal([512,nb_classes]), name='weight5')\n",
    "b5 = tf.Variable(tf.random.normal([nb_classes]), name='bias5')"
   ]
  },
  {
   "cell_type": "code",
   "execution_count": 10,
   "id": "eb6e9364",
   "metadata": {},
   "outputs": [],
   "source": [
    "# 예측 함수(hypothesis) : H(X) = softmax(W*X + b)\n",
    "def logits(X):\n",
    "    return tf.matmul(layer4(X),W5) + b5\n",
    "\n",
    "def hypothesis(X):\n",
    "    return tf.nn.softmax(logits(X)) "
   ]
  },
  {
   "cell_type": "code",
   "execution_count": 11,
   "id": "7f11a04f",
   "metadata": {},
   "outputs": [
    {
     "name": "stdout",
     "output_type": "stream",
     "text": [
      "***** Start Learning!!\n",
      "Epoch: 0001 cost: 8715406.622812510\n",
      "Epoch: 0002 cost: 232487.608320313\n",
      "Epoch: 0003 cost: 126103.573007812\n",
      "Epoch: 0004 cost: 79609.996250000\n",
      "Epoch: 0005 cost: 55073.613173828\n",
      "Epoch: 0006 cost: 37060.373376465\n",
      "Epoch: 0007 cost: 29824.326721191\n",
      "Epoch: 0008 cost: 23330.806966553\n",
      "Epoch: 0009 cost: 18213.187634277\n",
      "Epoch: 0010 cost: 13686.053187561\n",
      "Epoch: 0011 cost: 10937.585425415\n",
      "Epoch: 0012 cost: 8032.213581238\n",
      "Epoch: 0013 cost: 5404.785219078\n",
      "Epoch: 0014 cost: 3447.351437340\n",
      "Epoch: 0015 cost: 2673.672081450\n",
      "Epoch: 0016 cost: 1828.888854074\n",
      "Epoch: 0017 cost: 1515.553361416\n",
      "Epoch: 0018 cost: 1292.686855369\n",
      "Epoch: 0019 cost: 1246.896476746\n",
      "Epoch: 0020 cost: 736.244019461\n",
      "Epoch: 0021 cost: 720.993782325\n",
      "Epoch: 0022 cost: 696.317976460\n",
      "Epoch: 0023 cost: 488.229006853\n",
      "Epoch: 0024 cost: 321.855019226\n",
      "Epoch: 0025 cost: 330.132740974\n",
      "Epoch: 0026 cost: 277.536831837\n",
      "Epoch: 0027 cost: 211.402149124\n",
      "Epoch: 0028 cost: 447.845875378\n",
      "Epoch: 0029 cost: 928.342122998\n",
      "Epoch: 0030 cost: 639.221068153\n",
      "Epoch: 0031 cost: 806.302117121\n",
      "Epoch: 0032 cost: 574.208093691\n",
      "Epoch: 0033 cost: 1243.370414114\n",
      "Epoch: 0034 cost: 1179.994616423\n",
      "Epoch: 0035 cost: 1173.614062386\n",
      "Epoch: 0036 cost: 1175.647702131\n",
      "Epoch: 0037 cost: 1017.237280540\n",
      "Epoch: 0038 cost: 1368.065538273\n",
      "Epoch: 0039 cost: 1595.041025810\n",
      "Epoch: 0040 cost: 1288.451404572\n",
      "Epoch: 0041 cost: 970.014307823\n",
      "Epoch: 0042 cost: 656.505961380\n",
      "Epoch: 0043 cost: 679.245840321\n",
      "Epoch: 0044 cost: 1377.104608307\n",
      "Epoch: 0045 cost: 783.852386253\n",
      "Epoch: 0046 cost: 873.713923645\n",
      "Epoch: 0047 cost: 672.748987675\n",
      "Epoch: 0048 cost: 480.412031426\n",
      "Epoch: 0049 cost: 1027.477786102\n",
      "Epoch: 0050 cost: 1403.395575745\n",
      "***** Learning Finished!!\n"
     ]
    }
   ],
   "source": [
    "# 방법 2. batch 사이즈로 나누어 학습, 효율적 이며 학습 시간 단축\n",
    "# 학습 시작\n",
    "\n",
    "training_epoch = 50\n",
    "batch_size = 600\n",
    "\n",
    "# 경사 하강법\n",
    "# learning_rate(학습율)을 0.01 로 설정하여 optimizer객체를 생성\n",
    "optimizer = tf.keras.optimizers.Adam(learning_rate=0.01)\n",
    "\n",
    "# Y_one_hot = tf.one_hot(y_train,nb_classes)   # (60000, 10)\n",
    "\n",
    "print('***** Start Learning!!')\n",
    "for epoch in range(training_epoch): # 15회\n",
    "    \n",
    "    avg_cost = 0\n",
    "    \n",
    "    # 100 = 60000/600\n",
    "    total_batch = int(x_train.shape[0]/batch_size)\n",
    "    for k in range(total_batch):  # 100회\n",
    "        batch_xs = x_train[0 + k*batch_size:batch_size + k*batch_size]   # 600개의 X 데이터\n",
    "        batch_ys = Y_one_hot[0 + k*batch_size:batch_size + k*batch_size] # 600개의 Y 데이터\n",
    "        \n",
    "        # X값의 shape을 4차원으로 변환\n",
    "        X_img = tf.reshape(batch_xs,[-1,28,28,1])\n",
    "        \n",
    "        # 비용함수        \n",
    "        def cost_func_batch():\n",
    "            cost_i = tf.nn.softmax_cross_entropy_with_logits(logits = logits(X_img),\n",
    "                                             labels = batch_ys)\n",
    "            cost =  tf.reduce_mean(cost_i)\n",
    "            return cost\n",
    "        \n",
    "        # cost를 minimize 한다\n",
    "        optimizer.minimize(cost_func_batch,var_list=[W1,W2,W3,W4,W5,b4,b5])\n",
    "        avg_cost += cost_func_batch().numpy()/total_batch\n",
    "            \n",
    "    print('Epoch:','%04d'%(epoch + 1),'cost:','{:.9f}'.format(avg_cost))\n",
    "             \n",
    "print('***** Learning Finished!!')"
   ]
  },
  {
   "cell_type": "code",
   "execution_count": 12,
   "id": "15e096fc",
   "metadata": {},
   "outputs": [
    {
     "name": "stdout",
     "output_type": "stream",
     "text": [
      "(10000, 10)\n",
      "Accuracy: 0.9796\n",
      "***** Predict\n",
      "[7 2 1 ... 4 5 6] [7 2 1 ... 4 5 6]\n"
     ]
    }
   ],
   "source": [
    "# 정확도 측정 : accuracy computation\n",
    "\n",
    "# y_test 값의 one-hot 인코딩\n",
    "Y_one_hot = tf.one_hot(y_test,nb_classes)    # (10000,10)\n",
    "print(Y_one_hot.shape)                       # (10000,10)  , (2차원)\n",
    "\n",
    "# tf.argmax() : 값이 가장 큰 요소의 인덱스 값을 반환\n",
    "def predict(X):\n",
    "    return tf.argmax(hypothesis(X),axis=1)\n",
    "\n",
    "# X값의 shape을 4차원으로 변환\n",
    "X_img = tf.reshape(x_test,[-1,28,28,1])\n",
    "\n",
    "correct_predict = tf.equal(predict(X_img),tf.argmax(Y_one_hot,1))\n",
    "accuracy = tf.reduce_mean(tf.cast(correct_predict, dtype = tf.float32))\n",
    "print(\"Accuracy:\",accuracy.numpy()) # Accuracy: 0.9534\n",
    "\n",
    "#예측\n",
    "print('***** Predict')\n",
    "pred = predict(X_img).numpy()\n",
    "print(pred,y_test)"
   ]
  },
  {
   "cell_type": "code",
   "execution_count": 13,
   "id": "9cb495ec",
   "metadata": {},
   "outputs": [],
   "source": [
    "# 정확도 비교\n",
    "\n",
    "# [1] softmax 사용\n",
    "# 1 layers              -------> Accuracy  : 0.8871\n",
    "# 4 layers  sigmoid     -------> Accuracy  : 0.9033\n",
    "# 4 layers  relu        -------> Accuracy  : 0.9534  \n",
    "\n",
    "# [2] CNN 사용\n",
    "# 3 layers              -------> Accuracy  : 0.9743 (epoch=15) ,GPU\n",
    "# 3 layers              -------> Accuracy  : 0.9804 (epoch=50) ,GPU"
   ]
  },
  {
   "cell_type": "code",
   "execution_count": 14,
   "id": "9149eee1",
   "metadata": {},
   "outputs": [],
   "source": [
    "# 실습 과제\n",
    "# mnist_cnn_deep\n",
    "# MNIST and Convolutional Neural Network\n",
    "# L1,L2,L3 : conv2d + relu + max_pool \n",
    "# L4,L5 : FC(Fully Connected Layer)\n",
    "# 출력 size : 32(L1) --> 64(L2)-->128(L3) --> 512(L4) --> 10(L5)"
   ]
  }
 ],
 "metadata": {
  "kernelspec": {
   "display_name": "Python 3 (ipykernel)",
   "language": "python",
   "name": "python3"
  },
  "language_info": {
   "codemirror_mode": {
    "name": "ipython",
    "version": 3
   },
   "file_extension": ".py",
   "mimetype": "text/x-python",
   "name": "python",
   "nbconvert_exporter": "python",
   "pygments_lexer": "ipython3",
   "version": "3.10.9"
  }
 },
 "nbformat": 4,
 "nbformat_minor": 5
}
