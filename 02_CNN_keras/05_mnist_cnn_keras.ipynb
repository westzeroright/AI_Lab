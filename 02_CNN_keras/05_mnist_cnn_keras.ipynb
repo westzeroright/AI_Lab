{
 "cells": [
  {
   "cell_type": "code",
   "execution_count": 1,
   "id": "437de602",
   "metadata": {},
   "outputs": [],
   "source": [
    "import tensorflow as tf\n",
    "import numpy as np\n",
    "import matplotlib.pyplot as plt"
   ]
  },
  {
   "cell_type": "code",
   "execution_count": 2,
   "id": "3acbe0df",
   "metadata": {},
   "outputs": [
    {
     "name": "stdout",
     "output_type": "stream",
     "text": [
      "(60000, 28, 28)\n",
      "(60000, 28, 28) <dtype: 'float32'>\n",
      "(10000, 28, 28) <dtype: 'float32'>\n"
     ]
    }
   ],
   "source": [
    "# mnist 데이터 가져오기\n",
    "mnist = tf.keras.datasets.mnist\n",
    "(x_train,y_train),(x_test,y_test) = mnist.load_data()\n",
    "print(x_train.shape)\n",
    "\n",
    "# X값의 타입을 float형으로 변환\n",
    "x_train = tf.cast(x_train,dtype=tf.float32)\n",
    "print(x_train.shape,x_train.dtype)\n",
    "\n",
    "x_test = tf.cast(x_test,dtype=tf.float32)\n",
    "print(x_test.shape,x_test.dtype)"
   ]
  },
  {
   "cell_type": "code",
   "execution_count": 3,
   "id": "9e3607ac",
   "metadata": {},
   "outputs": [
    {
     "name": "stdout",
     "output_type": "stream",
     "text": [
      "(60000, 784) <dtype: 'float32'>\n",
      "(10000, 784) <dtype: 'float32'>\n",
      "Model: \"sequential\"\n",
      "_________________________________________________________________\n",
      " Layer (type)                Output Shape              Param #   \n",
      "=================================================================\n",
      " dense (Dense)               (None, 32)                25120     \n",
      "                                                                 \n",
      " dense_1 (Dense)             (None, 32)                1056      \n",
      "                                                                 \n",
      " dense_2 (Dense)             (None, 32)                1056      \n",
      "                                                                 \n",
      " dense_3 (Dense)             (None, 10)                330       \n",
      "                                                                 \n",
      "=================================================================\n",
      "Total params: 27,562\n",
      "Trainable params: 27,562\n",
      "Non-trainable params: 0\n",
      "_________________________________________________________________\n"
     ]
    }
   ],
   "source": [
    "## CNN 사용 안 한 모델\n",
    "x_train = tf.reshape(x_train,[-1,28*28]) # 2차원\n",
    "x_test = tf.reshape(x_test,[-1,28*28]) # 2차원\n",
    "print(x_train.shape,x_train.dtype)\n",
    "print(x_test.shape,x_test.dtype)\n",
    "\n",
    "model = tf.keras.Sequential([\n",
    "    tf.keras.layers.Dense(units=32,activation='relu',input_shape=(784,)),\n",
    "    tf.keras.layers.Dense(units=32,activation='relu'),\n",
    "    tf.keras.layers.Dense(units=32,activation='relu'),\n",
    "    tf.keras.layers.Dense(units=10,activation='softmax'),\n",
    "])\n",
    "\n",
    "model.compile(optimizer=tf.keras.optimizers.Adam(learning_rate=0.001),\n",
    "             loss='sparse_categorical_crossentropy',\n",
    "             metrics=['accuracy'])\n",
    "\n",
    "model.summary()"
   ]
  },
  {
   "cell_type": "code",
   "execution_count": 4,
   "id": "9fd06ebf",
   "metadata": {
    "scrolled": true
   },
   "outputs": [
    {
     "name": "stdout",
     "output_type": "stream",
     "text": [
      "Epoch 1/100\n",
      "1875/1875 [==============================] - 3s 1ms/step - loss: 1.3163 - accuracy: 0.7347\n",
      "Epoch 2/100\n",
      "1875/1875 [==============================] - 2s 1ms/step - loss: 0.4472 - accuracy: 0.8802\n",
      "Epoch 3/100\n",
      "1875/1875 [==============================] - 2s 1ms/step - loss: 0.3667 - accuracy: 0.9006\n",
      "Epoch 4/100\n",
      "1875/1875 [==============================] - 2s 1ms/step - loss: 0.3226 - accuracy: 0.9128\n",
      "Epoch 5/100\n",
      "1875/1875 [==============================] - 2s 1ms/step - loss: 0.2831 - accuracy: 0.9223\n",
      "Epoch 6/100\n",
      "1875/1875 [==============================] - 2s 1ms/step - loss: 0.2605 - accuracy: 0.9277\n",
      "Epoch 7/100\n",
      "1875/1875 [==============================] - 2s 1ms/step - loss: 0.2437 - accuracy: 0.9318\n",
      "Epoch 8/100\n",
      "1875/1875 [==============================] - 2s 1ms/step - loss: 0.2246 - accuracy: 0.9358\n",
      "Epoch 9/100\n",
      "1875/1875 [==============================] - 2s 1ms/step - loss: 0.2137 - accuracy: 0.9391\n",
      "Epoch 10/100\n",
      "1875/1875 [==============================] - 2s 1ms/step - loss: 0.2020 - accuracy: 0.9427\n",
      "Epoch 11/100\n",
      "1875/1875 [==============================] - 2s 1ms/step - loss: 0.1894 - accuracy: 0.9458\n",
      "Epoch 12/100\n",
      "1875/1875 [==============================] - 2s 1ms/step - loss: 0.1769 - accuracy: 0.9499\n",
      "Epoch 13/100\n",
      "1875/1875 [==============================] - 2s 1ms/step - loss: 0.1673 - accuracy: 0.9520\n",
      "Epoch 14/100\n",
      "1875/1875 [==============================] - 2s 1ms/step - loss: 0.1557 - accuracy: 0.9550\n",
      "Epoch 15/100\n",
      "1875/1875 [==============================] - 2s 991us/step - loss: 0.1480 - accuracy: 0.9581\n",
      "Epoch 16/100\n",
      "1875/1875 [==============================] - 2s 994us/step - loss: 0.1409 - accuracy: 0.9595\n",
      "Epoch 17/100\n",
      "1875/1875 [==============================] - 2s 1ms/step - loss: 0.1359 - accuracy: 0.9603\n",
      "Epoch 18/100\n",
      "1875/1875 [==============================] - 2s 995us/step - loss: 0.1284 - accuracy: 0.9629\n",
      "Epoch 19/100\n",
      "1875/1875 [==============================] - 2s 988us/step - loss: 0.1290 - accuracy: 0.9627\n",
      "Epoch 20/100\n",
      "1875/1875 [==============================] - 2s 995us/step - loss: 0.1221 - accuracy: 0.9645\n",
      "Epoch 21/100\n",
      "1875/1875 [==============================] - 2s 1ms/step - loss: 0.1169 - accuracy: 0.9668\n",
      "Epoch 22/100\n",
      "1875/1875 [==============================] - 2s 1ms/step - loss: 0.1141 - accuracy: 0.9670\n",
      "Epoch 23/100\n",
      "1875/1875 [==============================] - 2s 991us/step - loss: 0.1097 - accuracy: 0.9681\n",
      "Epoch 24/100\n",
      "1875/1875 [==============================] - 2s 1ms/step - loss: 0.1071 - accuracy: 0.9683\n",
      "Epoch 25/100\n",
      "1875/1875 [==============================] - 2s 984us/step - loss: 0.1082 - accuracy: 0.9684\n",
      "Epoch 26/100\n",
      "1875/1875 [==============================] - 2s 978us/step - loss: 0.1034 - accuracy: 0.9698\n",
      "Epoch 27/100\n",
      "1875/1875 [==============================] - 2s 983us/step - loss: 0.0997 - accuracy: 0.9702\n",
      "Epoch 28/100\n",
      "1875/1875 [==============================] - 2s 981us/step - loss: 0.0996 - accuracy: 0.9701\n",
      "Epoch 29/100\n",
      "1875/1875 [==============================] - 2s 985us/step - loss: 0.0985 - accuracy: 0.9714\n",
      "Epoch 30/100\n",
      "1875/1875 [==============================] - 2s 997us/step - loss: 0.0975 - accuracy: 0.9713\n",
      "Epoch 31/100\n",
      "1875/1875 [==============================] - 2s 1ms/step - loss: 0.0936 - accuracy: 0.9721\n",
      "Epoch 32/100\n",
      "1875/1875 [==============================] - 2s 1ms/step - loss: 0.0949 - accuracy: 0.9715\n",
      "Epoch 33/100\n",
      "1875/1875 [==============================] - 2s 1ms/step - loss: 0.0935 - accuracy: 0.9722\n",
      "Epoch 34/100\n",
      "1875/1875 [==============================] - 2s 1ms/step - loss: 0.0916 - accuracy: 0.9729\n",
      "Epoch 35/100\n",
      "1875/1875 [==============================] - 2s 1ms/step - loss: 0.0879 - accuracy: 0.9746\n",
      "Epoch 36/100\n",
      "1875/1875 [==============================] - 2s 1ms/step - loss: 0.0916 - accuracy: 0.9727\n",
      "Epoch 37/100\n",
      "1875/1875 [==============================] - 2s 1ms/step - loss: 0.0888 - accuracy: 0.9746\n",
      "Epoch 38/100\n",
      "1875/1875 [==============================] - 2s 1ms/step - loss: 0.0878 - accuracy: 0.9744\n",
      "Epoch 39/100\n",
      "1875/1875 [==============================] - 2s 1ms/step - loss: 0.0863 - accuracy: 0.9751\n",
      "Epoch 40/100\n",
      "1875/1875 [==============================] - 2s 1ms/step - loss: 0.0856 - accuracy: 0.9741\n",
      "Epoch 41/100\n",
      "1875/1875 [==============================] - 2s 1ms/step - loss: 0.0813 - accuracy: 0.9756\n",
      "Epoch 42/100\n",
      "1875/1875 [==============================] - 2s 1ms/step - loss: 0.0855 - accuracy: 0.9749\n",
      "Epoch 43/100\n",
      "1875/1875 [==============================] - 2s 1ms/step - loss: 0.0850 - accuracy: 0.9752\n",
      "Epoch 44/100\n",
      "1875/1875 [==============================] - 2s 1ms/step - loss: 0.0875 - accuracy: 0.9745\n",
      "Epoch 45/100\n",
      "1875/1875 [==============================] - 2s 1ms/step - loss: 0.0814 - accuracy: 0.9764\n",
      "Epoch 46/100\n",
      "1875/1875 [==============================] - 2s 1ms/step - loss: 0.0816 - accuracy: 0.9761\n",
      "Epoch 47/100\n",
      "1875/1875 [==============================] - 2s 1ms/step - loss: 0.0803 - accuracy: 0.9764\n",
      "Epoch 48/100\n",
      "1875/1875 [==============================] - 2s 982us/step - loss: 0.0776 - accuracy: 0.9770\n",
      "Epoch 49/100\n",
      "1875/1875 [==============================] - 2s 1ms/step - loss: 0.0782 - accuracy: 0.9775\n",
      "Epoch 50/100\n",
      "1875/1875 [==============================] - 2s 1ms/step - loss: 0.0780 - accuracy: 0.9777\n",
      "Epoch 51/100\n",
      "1875/1875 [==============================] - 2s 989us/step - loss: 0.0819 - accuracy: 0.9773\n",
      "Epoch 52/100\n",
      "1875/1875 [==============================] - 2s 982us/step - loss: 0.0746 - accuracy: 0.9786\n",
      "Epoch 53/100\n",
      "1875/1875 [==============================] - 2s 994us/step - loss: 0.0799 - accuracy: 0.9769\n",
      "Epoch 54/100\n",
      "1875/1875 [==============================] - 2s 970us/step - loss: 0.0725 - accuracy: 0.9788\n",
      "Epoch 55/100\n",
      "1875/1875 [==============================] - 2s 982us/step - loss: 0.0747 - accuracy: 0.9785\n",
      "Epoch 56/100\n",
      "1875/1875 [==============================] - 2s 998us/step - loss: 0.0746 - accuracy: 0.9784\n",
      "Epoch 57/100\n",
      "1875/1875 [==============================] - 2s 976us/step - loss: 0.0753 - accuracy: 0.9780\n",
      "Epoch 58/100\n",
      "1875/1875 [==============================] - 2s 999us/step - loss: 0.0743 - accuracy: 0.9789\n",
      "Epoch 59/100\n",
      "1875/1875 [==============================] - 2s 989us/step - loss: 0.0739 - accuracy: 0.9793\n",
      "Epoch 60/100\n",
      "1875/1875 [==============================] - 2s 992us/step - loss: 0.0726 - accuracy: 0.9788\n",
      "Epoch 61/100\n",
      "1875/1875 [==============================] - 2s 975us/step - loss: 0.0711 - accuracy: 0.9787\n",
      "Epoch 62/100\n",
      "1875/1875 [==============================] - 2s 997us/step - loss: 0.0760 - accuracy: 0.9784\n",
      "Epoch 63/100\n",
      "1875/1875 [==============================] - 2s 1ms/step - loss: 0.0694 - accuracy: 0.9800\n",
      "Epoch 64/100\n",
      "1875/1875 [==============================] - 2s 981us/step - loss: 0.0705 - accuracy: 0.9794\n",
      "Epoch 65/100\n",
      "1875/1875 [==============================] - 2s 999us/step - loss: 0.0719 - accuracy: 0.9794\n",
      "Epoch 66/100\n",
      "1875/1875 [==============================] - 2s 996us/step - loss: 0.0692 - accuracy: 0.9798\n",
      "Epoch 67/100\n",
      "1875/1875 [==============================] - 2s 980us/step - loss: 0.0687 - accuracy: 0.9795\n",
      "Epoch 68/100\n",
      "1875/1875 [==============================] - 2s 1ms/step - loss: 0.0672 - accuracy: 0.9807\n",
      "Epoch 69/100\n",
      "1875/1875 [==============================] - 2s 996us/step - loss: 0.0691 - accuracy: 0.9805\n",
      "Epoch 70/100\n",
      "1875/1875 [==============================] - 2s 1ms/step - loss: 0.0708 - accuracy: 0.9793\n",
      "Epoch 71/100\n",
      "1875/1875 [==============================] - 2s 998us/step - loss: 0.0689 - accuracy: 0.9804\n",
      "Epoch 72/100\n",
      "1875/1875 [==============================] - 2s 995us/step - loss: 0.0658 - accuracy: 0.9816\n",
      "Epoch 73/100\n",
      "1875/1875 [==============================] - 2s 992us/step - loss: 0.0635 - accuracy: 0.9814\n",
      "Epoch 74/100\n",
      "1875/1875 [==============================] - 2s 997us/step - loss: 0.0698 - accuracy: 0.9805\n",
      "Epoch 75/100\n",
      "1875/1875 [==============================] - 2s 985us/step - loss: 0.0637 - accuracy: 0.9816\n",
      "Epoch 76/100\n",
      "1875/1875 [==============================] - 2s 1ms/step - loss: 0.0659 - accuracy: 0.9811\n",
      "Epoch 77/100\n",
      "1875/1875 [==============================] - 2s 998us/step - loss: 0.0716 - accuracy: 0.9797\n",
      "Epoch 78/100\n",
      "1875/1875 [==============================] - 2s 1ms/step - loss: 0.0645 - accuracy: 0.9812\n",
      "Epoch 79/100\n",
      "1875/1875 [==============================] - 2s 1ms/step - loss: 0.0623 - accuracy: 0.9819\n",
      "Epoch 80/100\n",
      "1875/1875 [==============================] - 2s 994us/step - loss: 0.0641 - accuracy: 0.9818\n",
      "Epoch 81/100\n",
      "1875/1875 [==============================] - 2s 990us/step - loss: 0.0653 - accuracy: 0.9814\n",
      "Epoch 82/100\n",
      "1875/1875 [==============================] - 2s 981us/step - loss: 0.0679 - accuracy: 0.9809\n",
      "Epoch 83/100\n",
      "1875/1875 [==============================] - 2s 968us/step - loss: 0.0624 - accuracy: 0.9827\n",
      "Epoch 84/100\n",
      "1875/1875 [==============================] - 2s 992us/step - loss: 0.0613 - accuracy: 0.9824\n",
      "Epoch 85/100\n",
      "1875/1875 [==============================] - 2s 982us/step - loss: 0.0690 - accuracy: 0.9798\n",
      "Epoch 86/100\n",
      "1875/1875 [==============================] - 2s 978us/step - loss: 0.0661 - accuracy: 0.9815\n",
      "Epoch 87/100\n",
      "1875/1875 [==============================] - 2s 981us/step - loss: 0.0587 - accuracy: 0.9833\n",
      "Epoch 88/100\n",
      "1875/1875 [==============================] - 2s 979us/step - loss: 0.0632 - accuracy: 0.9824\n",
      "Epoch 89/100\n",
      "1875/1875 [==============================] - 2s 1ms/step - loss: 0.0606 - accuracy: 0.9829\n",
      "Epoch 90/100\n",
      "1875/1875 [==============================] - 2s 1ms/step - loss: 0.0614 - accuracy: 0.9821\n",
      "Epoch 91/100\n",
      "1875/1875 [==============================] - 2s 1ms/step - loss: 0.0633 - accuracy: 0.9822\n",
      "Epoch 92/100\n",
      "1875/1875 [==============================] - 2s 1ms/step - loss: 0.0590 - accuracy: 0.9832\n",
      "Epoch 93/100\n",
      "1875/1875 [==============================] - 2s 998us/step - loss: 0.0625 - accuracy: 0.9829\n",
      "Epoch 94/100\n",
      "1875/1875 [==============================] - 2s 968us/step - loss: 0.0723 - accuracy: 0.9818\n",
      "Epoch 95/100\n",
      "1875/1875 [==============================] - 2s 980us/step - loss: 0.0590 - accuracy: 0.9836\n",
      "Epoch 96/100\n",
      "1875/1875 [==============================] - 2s 984us/step - loss: 0.0617 - accuracy: 0.9826\n",
      "Epoch 97/100\n",
      "1875/1875 [==============================] - 2s 998us/step - loss: 0.0626 - accuracy: 0.9827\n",
      "Epoch 98/100\n",
      "1875/1875 [==============================] - 2s 976us/step - loss: 0.0543 - accuracy: 0.9844\n",
      "Epoch 99/100\n",
      "1875/1875 [==============================] - 2s 1ms/step - loss: 0.0745 - accuracy: 0.9821\n",
      "Epoch 100/100\n",
      "1875/1875 [==============================] - 2s 978us/step - loss: 0.0562 - accuracy: 0.9842\n"
     ]
    },
    {
     "data": {
      "text/plain": [
       "<keras.callbacks.History at 0x212be066440>"
      ]
     },
     "execution_count": 4,
     "metadata": {},
     "output_type": "execute_result"
    }
   ],
   "source": [
    "# 학습\n",
    "model.fit(x_train,y_train,epochs=100,batch_size=32,verbose=1)"
   ]
  },
  {
   "cell_type": "code",
   "execution_count": 5,
   "id": "5238b1fd",
   "metadata": {},
   "outputs": [
    {
     "name": "stdout",
     "output_type": "stream",
     "text": [
      "313/313 [==============================] - 0s 942us/step - loss: 0.3300 - accuracy: 0.9568\n"
     ]
    },
    {
     "data": {
      "text/plain": [
       "[0.3300316035747528, 0.9567999839782715]"
      ]
     },
     "execution_count": 5,
     "metadata": {},
     "output_type": "execute_result"
    }
   ],
   "source": [
    "model.evaluate(x_test,y_test)"
   ]
  },
  {
   "cell_type": "code",
   "execution_count": 16,
   "id": "c4dd8a2e",
   "metadata": {},
   "outputs": [
    {
     "name": "stdout",
     "output_type": "stream",
     "text": [
      "(60000, 28, 28, 1) <dtype: 'float32'>\n",
      "(10000, 28, 28, 1) <dtype: 'float32'>\n",
      "Model: \"sequential_9\"\n",
      "_________________________________________________________________\n",
      " Layer (type)                Output Shape              Param #   \n",
      "=================================================================\n",
      " conv2d_15 (Conv2D)          (None, 28, 28, 32)        320       \n",
      "                                                                 \n",
      " max_pooling2d_13 (MaxPoolin  (None, 14, 14, 32)       0         \n",
      " g2D)                                                            \n",
      "                                                                 \n",
      " conv2d_16 (Conv2D)          (None, 14, 14, 64)        18496     \n",
      "                                                                 \n",
      " max_pooling2d_14 (MaxPoolin  (None, 7, 7, 64)         0         \n",
      " g2D)                                                            \n",
      "                                                                 \n",
      " conv2d_17 (Conv2D)          (None, 7, 7, 128)         73856     \n",
      "                                                                 \n",
      " max_pooling2d_15 (MaxPoolin  (None, 4, 4, 128)        0         \n",
      " g2D)                                                            \n",
      "                                                                 \n",
      " flatten_2 (Flatten)         (None, 2048)              0         \n",
      "                                                                 \n",
      " dense_7 (Dense)             (None, 512)               1049088   \n",
      "                                                                 \n",
      " dense_8 (Dense)             (None, 10)                5130      \n",
      "                                                                 \n",
      "=================================================================\n",
      "Total params: 1,146,890\n",
      "Trainable params: 1,146,890\n",
      "Non-trainable params: 0\n",
      "_________________________________________________________________\n"
     ]
    }
   ],
   "source": [
    "# CNN을 사용한 모델 구현\n",
    "x_train = tf.reshape(x_train,[-1,28,28,1]) # 2차원\n",
    "x_test = tf.reshape(x_test,[-1,28,28,1]) # 2차원\n",
    "print(x_train.shape,x_train.dtype)\n",
    "print(x_test.shape,x_test.dtype)\n",
    "\n",
    "model = tf.keras.Sequential([\n",
    "    tf.keras.layers.Conv2D(filters=32,kernel_size=(3,3),strides=(1,1),padding='same',\n",
    "                          activation='relu',input_shape=(28,28,1)),\n",
    "    tf.keras.layers.MaxPool2D(pool_size=(2,2),strides=(2,2),padding='same'),\n",
    "    \n",
    "    tf.keras.layers.Conv2D(filters=64,kernel_size=(3,3),strides=(1,1),padding='same',\n",
    "                          activation='relu'),\n",
    "    tf.keras.layers.MaxPool2D(pool_size=(2,2),strides=(2,2),padding='same'),\n",
    "    \n",
    "    tf.keras.layers.Conv2D(filters=128,kernel_size=(3,3),strides=(1,1),padding='same',\n",
    "                          activation='relu'),\n",
    "    tf.keras.layers.MaxPool2D(pool_size=(2,2),strides=(2,2),padding='same'),\n",
    "    \n",
    "    tf.keras.layers.Flatten(),\n",
    "    tf.keras.layers.Dense(units=512,activation='relu'),\n",
    "    tf.keras.layers.Dense(units=10,activation='softmax'),\n",
    "\n",
    "])\n",
    "\n",
    "model.compile(optimizer=tf.keras.optimizers.Adam(learning_rate=0.001),\n",
    "             loss='sparse_categorical_crossentropy',\n",
    "             metrics=['accuracy'])\n",
    "model.summary()\n",
    "\n",
    "# https://yeomko.tistory.com/40\n",
    "# Xavier Glorot Initialization : W(Weight) 값을 fan_in,fan_out를 사용하여 초기화하여 정확도 향상\n",
    "\n",
    "# loss 종류\n",
    "# mean_squared_error : 평균제곱 오차\n",
    "# binary_crossentropy : 이진분류 오차\n",
    "# categorical_crossentropy : 다중 분류 오차. one-hot encoding 클래스, [0.2, 0.3, 0.5] 와 같은 출력값과 실측값의 오차값을 계산한다.\n",
    "# sparse_categorical_crossentropy: 다중 분류 오차. 위와 동일하지만 , integer type 클래스라는 것이 다르다."
   ]
  },
  {
   "cell_type": "code",
   "execution_count": 18,
   "id": "225b39a3",
   "metadata": {},
   "outputs": [
    {
     "name": "stdout",
     "output_type": "stream",
     "text": [
      "Epoch 1/25\n",
      "1407/1407 [==============================] - 7s 3ms/step - loss: 0.3991 - accuracy: 0.9414 - val_loss: 0.0748 - val_accuracy: 0.9771\n",
      "Epoch 2/25\n",
      "1407/1407 [==============================] - 4s 3ms/step - loss: 0.0640 - accuracy: 0.9806 - val_loss: 0.0706 - val_accuracy: 0.9777\n",
      "Epoch 3/25\n",
      "1407/1407 [==============================] - 4s 3ms/step - loss: 0.0495 - accuracy: 0.9846 - val_loss: 0.0529 - val_accuracy: 0.9828\n",
      "Epoch 4/25\n",
      "1407/1407 [==============================] - 4s 3ms/step - loss: 0.0422 - accuracy: 0.9868 - val_loss: 0.0554 - val_accuracy: 0.9847\n",
      "Epoch 5/25\n",
      "1407/1407 [==============================] - 4s 3ms/step - loss: 0.0409 - accuracy: 0.9875 - val_loss: 0.0942 - val_accuracy: 0.9771\n",
      "Epoch 6/25\n",
      "1407/1407 [==============================] - 4s 3ms/step - loss: 0.0338 - accuracy: 0.9894 - val_loss: 0.0768 - val_accuracy: 0.9823\n",
      "Epoch 7/25\n",
      "1407/1407 [==============================] - 3s 2ms/step - loss: 0.0300 - accuracy: 0.9912 - val_loss: 0.0556 - val_accuracy: 0.9873\n",
      "Epoch 8/25\n",
      "1407/1407 [==============================] - 3s 2ms/step - loss: 0.0297 - accuracy: 0.9917 - val_loss: 0.0495 - val_accuracy: 0.9883\n",
      "Epoch 9/25\n",
      "1407/1407 [==============================] - 3s 2ms/step - loss: 0.0257 - accuracy: 0.9921 - val_loss: 0.0791 - val_accuracy: 0.9837\n",
      "Epoch 10/25\n",
      "1407/1407 [==============================] - 3s 2ms/step - loss: 0.0267 - accuracy: 0.9925 - val_loss: 0.0830 - val_accuracy: 0.9835\n",
      "Epoch 11/25\n",
      "1407/1407 [==============================] - 3s 2ms/step - loss: 0.0288 - accuracy: 0.9926 - val_loss: 0.0822 - val_accuracy: 0.9845\n",
      "Epoch 12/25\n",
      "1407/1407 [==============================] - 3s 2ms/step - loss: 0.0236 - accuracy: 0.9940 - val_loss: 0.0891 - val_accuracy: 0.9846\n",
      "Epoch 13/25\n",
      "1407/1407 [==============================] - 3s 2ms/step - loss: 0.0287 - accuracy: 0.9927 - val_loss: 0.0759 - val_accuracy: 0.9852\n",
      "Epoch 14/25\n",
      "1407/1407 [==============================] - 3s 2ms/step - loss: 0.0196 - accuracy: 0.9948 - val_loss: 0.0740 - val_accuracy: 0.9851\n",
      "Epoch 15/25\n",
      "1407/1407 [==============================] - 3s 2ms/step - loss: 0.0220 - accuracy: 0.9944 - val_loss: 0.0666 - val_accuracy: 0.9888\n",
      "Epoch 16/25\n",
      "1407/1407 [==============================] - 3s 2ms/step - loss: 0.0223 - accuracy: 0.9948 - val_loss: 0.1282 - val_accuracy: 0.9827\n",
      "Epoch 17/25\n",
      "1407/1407 [==============================] - 3s 2ms/step - loss: 0.0269 - accuracy: 0.9936 - val_loss: 0.0858 - val_accuracy: 0.9875\n",
      "Epoch 18/25\n",
      "1407/1407 [==============================] - 3s 2ms/step - loss: 0.0215 - accuracy: 0.9947 - val_loss: 0.1002 - val_accuracy: 0.9851\n",
      "Epoch 19/25\n",
      "1407/1407 [==============================] - 3s 2ms/step - loss: 0.0194 - accuracy: 0.9952 - val_loss: 0.1052 - val_accuracy: 0.9869\n",
      "Epoch 20/25\n",
      "1407/1407 [==============================] - 4s 2ms/step - loss: 0.0304 - accuracy: 0.9944 - val_loss: 0.1190 - val_accuracy: 0.9853\n",
      "Epoch 21/25\n",
      "1407/1407 [==============================] - 4s 2ms/step - loss: 0.0223 - accuracy: 0.9950 - val_loss: 0.0918 - val_accuracy: 0.9855\n",
      "Epoch 22/25\n",
      "1407/1407 [==============================] - 3s 2ms/step - loss: 0.0227 - accuracy: 0.9956 - val_loss: 0.1342 - val_accuracy: 0.9830\n",
      "Epoch 23/25\n",
      "1407/1407 [==============================] - 4s 2ms/step - loss: 0.0296 - accuracy: 0.9944 - val_loss: 0.1017 - val_accuracy: 0.9862\n",
      "Epoch 24/25\n",
      "1407/1407 [==============================] - 4s 2ms/step - loss: 0.0182 - accuracy: 0.9964 - val_loss: 0.1427 - val_accuracy: 0.9849\n",
      "Epoch 25/25\n",
      "1407/1407 [==============================] - 3s 2ms/step - loss: 0.0255 - accuracy: 0.9953 - val_loss: 0.1172 - val_accuracy: 0.9847\n"
     ]
    },
    {
     "data": {
      "text/plain": [
       "<keras.callbacks.History at 0x212bf2e84c0>"
      ]
     },
     "execution_count": 18,
     "metadata": {},
     "output_type": "execute_result"
    }
   ],
   "source": [
    "# 학습 : 약 2분 소요(GPU)\n",
    "model.fit(x_train,y_train,epochs=25,validation_split=0.25)"
   ]
  },
  {
   "cell_type": "code",
   "execution_count": 19,
   "id": "21cc1e14",
   "metadata": {},
   "outputs": [
    {
     "name": "stdout",
     "output_type": "stream",
     "text": [
      "313/313 [==============================] - 1s 2ms/step - loss: 0.1166 - accuracy: 0.9872\n"
     ]
    },
    {
     "data": {
      "text/plain": [
       "[0.11657530814409256, 0.9872000217437744]"
      ]
     },
     "execution_count": 19,
     "metadata": {},
     "output_type": "execute_result"
    }
   ],
   "source": [
    "# 평가\n",
    "model.evaluate(x_test,y_test)"
   ]
  },
  {
   "cell_type": "markdown",
   "id": "d8c12c29",
   "metadata": {},
   "source": [
    "### 모델 개선"
   ]
  },
  {
   "cell_type": "code",
   "execution_count": 26,
   "id": "17678f2e",
   "metadata": {},
   "outputs": [
    {
     "name": "stdout",
     "output_type": "stream",
     "text": [
      "Model: \"sequential_13\"\n",
      "_________________________________________________________________\n",
      " Layer (type)                Output Shape              Param #   \n",
      "=================================================================\n",
      " conv2d_36 (Conv2D)          (None, 28, 28, 32)        320       \n",
      "                                                                 \n",
      " conv2d_37 (Conv2D)          (None, 28, 28, 64)        18496     \n",
      "                                                                 \n",
      " max_pooling2d_25 (MaxPoolin  (None, 14, 14, 64)       0         \n",
      " g2D)                                                            \n",
      "                                                                 \n",
      " conv2d_38 (Conv2D)          (None, 14, 14, 64)        36928     \n",
      "                                                                 \n",
      " conv2d_39 (Conv2D)          (None, 12, 12, 128)       73856     \n",
      "                                                                 \n",
      " max_pooling2d_26 (MaxPoolin  (None, 6, 6, 128)        0         \n",
      " g2D)                                                            \n",
      "                                                                 \n",
      " flatten_7 (Flatten)         (None, 4608)              0         \n",
      "                                                                 \n",
      " dense_18 (Dense)            (None, 512)               2359808   \n",
      "                                                                 \n",
      " dropout_8 (Dropout)         (None, 512)               0         \n",
      "                                                                 \n",
      " dense_19 (Dense)            (None, 256)               131328    \n",
      "                                                                 \n",
      " dropout_9 (Dropout)         (None, 256)               0         \n",
      "                                                                 \n",
      " dense_20 (Dense)            (None, 10)                2570      \n",
      "                                                                 \n",
      "=================================================================\n",
      "Total params: 2,623,306\n",
      "Trainable params: 2,623,306\n",
      "Non-trainable params: 0\n",
      "_________________________________________________________________\n"
     ]
    }
   ],
   "source": [
    "# VGGNet (VGG-19) 스타일의 MNIST 분류 CNN 모델 \n",
    "#--------------------------------------------\n",
    "# ( Conv2D * 2개  --> MaxPool2D ) * 2회 : 4층\n",
    "# ( Conv2D * 4개  --> MaxPool2D ) * 3회 : 12층\n",
    "# Dense * 3개                           : 3층\n",
    "#--------------------------------------------\n",
    "#                                     총 19층\n",
    "#--------------------------------------------\n",
    "# 각 네트워크마다 필터의 수를 2배로 증가 시킨다 : 32-->64-->128-->256-->512\n",
    "\n",
    "model = tf.keras.Sequential([\n",
    "    tf.keras.layers.Conv2D(filters=32,kernel_size=(3,3),padding='same',\n",
    "                          activation='relu',input_shape=(28,28,1)),\n",
    "    tf.keras.layers.Conv2D(filters=64,kernel_size=(3,3),padding='same',\n",
    "                          activation='relu'),\n",
    "    tf.keras.layers.MaxPool2D(pool_size=(2,2)),\n",
    "    \n",
    "    tf.keras.layers.Conv2D(filters=64,kernel_size=(3,3),padding='same',\n",
    "                          activation='relu',input_shape=(28,28,1)),\n",
    "    tf.keras.layers.Conv2D(filters=128,kernel_size=(3,3),padding='valid',\n",
    "                          activation='relu'),\n",
    "    tf.keras.layers.MaxPool2D(pool_size=(2,2)),\n",
    "    \n",
    "    \n",
    "    \n",
    "    tf.keras.layers.Flatten(),\n",
    "    tf.keras.layers.Dense(units=512,activation='relu'),\n",
    "    tf.keras.layers.Dropout(0.5),\n",
    "    tf.keras.layers.Dense(units=256,activation='relu'),\n",
    "    tf.keras.layers.Dropout(0.5),\n",
    "    tf.keras.layers.Dense(units=10,activation='softmax')\n",
    "])\n",
    "\n",
    "model.compile(optimizer=tf.keras.optimizers.Adam(),\n",
    "             loss='sparse_categorical_crossentropy',\n",
    "             metrics=['accuracy'])\n",
    "model.summary()"
   ]
  },
  {
   "cell_type": "code",
   "execution_count": 27,
   "id": "3f576be7",
   "metadata": {
    "scrolled": true
   },
   "outputs": [
    {
     "name": "stdout",
     "output_type": "stream",
     "text": [
      "Epoch 1/25\n",
      "1407/1407 [==============================] - 7s 5ms/step - loss: 0.3253 - accuracy: 0.9176 - val_loss: 0.0639 - val_accuracy: 0.9809\n",
      "Epoch 2/25\n",
      "1407/1407 [==============================] - 6s 4ms/step - loss: 0.0910 - accuracy: 0.9749 - val_loss: 0.0573 - val_accuracy: 0.9839\n",
      "Epoch 3/25\n",
      "1407/1407 [==============================] - 6s 4ms/step - loss: 0.0750 - accuracy: 0.9799 - val_loss: 0.0430 - val_accuracy: 0.9877\n",
      "Epoch 4/25\n",
      "1407/1407 [==============================] - 6s 4ms/step - loss: 0.0623 - accuracy: 0.9829 - val_loss: 0.0459 - val_accuracy: 0.9876\n",
      "Epoch 5/25\n",
      "1407/1407 [==============================] - 6s 4ms/step - loss: 0.0550 - accuracy: 0.9858 - val_loss: 0.0644 - val_accuracy: 0.9849\n",
      "Epoch 6/25\n",
      "1407/1407 [==============================] - 6s 4ms/step - loss: 0.0508 - accuracy: 0.9860 - val_loss: 0.0443 - val_accuracy: 0.9893\n",
      "Epoch 7/25\n",
      "1407/1407 [==============================] - 6s 4ms/step - loss: 0.0476 - accuracy: 0.9872 - val_loss: 0.0403 - val_accuracy: 0.9907\n",
      "Epoch 8/25\n",
      "1407/1407 [==============================] - 6s 4ms/step - loss: 0.0437 - accuracy: 0.9888 - val_loss: 0.0551 - val_accuracy: 0.9890\n",
      "Epoch 9/25\n",
      "1407/1407 [==============================] - 6s 4ms/step - loss: 0.0446 - accuracy: 0.9886 - val_loss: 0.0469 - val_accuracy: 0.9883\n",
      "Epoch 10/25\n",
      "1407/1407 [==============================] - 6s 4ms/step - loss: 0.0444 - accuracy: 0.9890 - val_loss: 0.0462 - val_accuracy: 0.9885\n",
      "Epoch 11/25\n",
      "1407/1407 [==============================] - 6s 4ms/step - loss: 0.0368 - accuracy: 0.9904 - val_loss: 0.0431 - val_accuracy: 0.9895\n",
      "Epoch 12/25\n",
      "1407/1407 [==============================] - 6s 4ms/step - loss: 0.0376 - accuracy: 0.9911 - val_loss: 0.0476 - val_accuracy: 0.9899\n",
      "Epoch 13/25\n",
      "1407/1407 [==============================] - 6s 4ms/step - loss: 0.0353 - accuracy: 0.9912 - val_loss: 0.0578 - val_accuracy: 0.9862\n",
      "Epoch 14/25\n",
      "1407/1407 [==============================] - 6s 5ms/step - loss: 0.0375 - accuracy: 0.9908 - val_loss: 0.0555 - val_accuracy: 0.9894\n",
      "Epoch 15/25\n",
      "1407/1407 [==============================] - 6s 5ms/step - loss: 0.0349 - accuracy: 0.9916 - val_loss: 0.0587 - val_accuracy: 0.9873\n",
      "Epoch 16/25\n",
      "1407/1407 [==============================] - 6s 4ms/step - loss: 0.0354 - accuracy: 0.9914 - val_loss: 0.0579 - val_accuracy: 0.9871\n",
      "Epoch 17/25\n",
      "1407/1407 [==============================] - 6s 4ms/step - loss: 0.0391 - accuracy: 0.9912 - val_loss: 0.0471 - val_accuracy: 0.9911\n",
      "Epoch 18/25\n",
      "1407/1407 [==============================] - 6s 4ms/step - loss: 0.0254 - accuracy: 0.9939 - val_loss: 0.0548 - val_accuracy: 0.9884\n",
      "Epoch 19/25\n",
      "1407/1407 [==============================] - 6s 4ms/step - loss: 0.0318 - accuracy: 0.9922 - val_loss: 0.0543 - val_accuracy: 0.9872\n",
      "Epoch 20/25\n",
      "1407/1407 [==============================] - 6s 4ms/step - loss: 0.0336 - accuracy: 0.9923 - val_loss: 0.0575 - val_accuracy: 0.9895\n",
      "Epoch 21/25\n",
      "1407/1407 [==============================] - 6s 4ms/step - loss: 0.0310 - accuracy: 0.9930 - val_loss: 0.0651 - val_accuracy: 0.9874\n",
      "Epoch 22/25\n",
      "1407/1407 [==============================] - 6s 5ms/step - loss: 0.0334 - accuracy: 0.9932 - val_loss: 0.0530 - val_accuracy: 0.9901\n",
      "Epoch 23/25\n",
      "1407/1407 [==============================] - 6s 4ms/step - loss: 0.0332 - accuracy: 0.9927 - val_loss: 0.0636 - val_accuracy: 0.9911\n",
      "Epoch 24/25\n",
      "1407/1407 [==============================] - 6s 4ms/step - loss: 0.0388 - accuracy: 0.9913 - val_loss: 0.0658 - val_accuracy: 0.9884\n",
      "Epoch 25/25\n",
      "1407/1407 [==============================] - 6s 5ms/step - loss: 0.0318 - accuracy: 0.9925 - val_loss: 0.0697 - val_accuracy: 0.9877\n"
     ]
    },
    {
     "data": {
      "text/plain": [
       "<keras.callbacks.History at 0x2141e235e70>"
      ]
     },
     "execution_count": 27,
     "metadata": {},
     "output_type": "execute_result"
    }
   ],
   "source": [
    "# 학습 : 약 4분 소요(GPU)\n",
    "model.fit(x_train,y_train,epochs=25,validation_split=0.25)"
   ]
  },
  {
   "cell_type": "code",
   "execution_count": 28,
   "id": "b6f8bd4c",
   "metadata": {},
   "outputs": [
    {
     "name": "stdout",
     "output_type": "stream",
     "text": [
      "313/313 [==============================] - 1s 2ms/step - loss: 0.0422 - accuracy: 0.9912\n"
     ]
    },
    {
     "data": {
      "text/plain": [
       "[0.04224212095141411, 0.9911999702453613]"
      ]
     },
     "execution_count": 28,
     "metadata": {},
     "output_type": "execute_result"
    }
   ],
   "source": [
    "# 평가\n",
    "model.evaluate(x_test,y_test)"
   ]
  },
  {
   "cell_type": "code",
   "execution_count": null,
   "id": "a4ecdda0",
   "metadata": {},
   "outputs": [],
   "source": []
  }
 ],
 "metadata": {
  "kernelspec": {
   "display_name": "Python 3 (ipykernel)",
   "language": "python",
   "name": "python3"
  },
  "language_info": {
   "codemirror_mode": {
    "name": "ipython",
    "version": 3
   },
   "file_extension": ".py",
   "mimetype": "text/x-python",
   "name": "python",
   "nbconvert_exporter": "python",
   "pygments_lexer": "ipython3",
   "version": "3.10.9"
  }
 },
 "nbformat": 4,
 "nbformat_minor": 5
}
