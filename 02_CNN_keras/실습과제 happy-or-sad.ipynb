{
 "cells": [
  {
   "cell_type": "code",
   "execution_count": 1,
   "id": "136d3369",
   "metadata": {},
   "outputs": [],
   "source": [
    "import tensorflow as tf\n",
    "import urllib\n",
    "import zipfile\n",
    "from tensorflow.keras.optimizers import RMSprop\n",
    "from tensorflow.keras.preprocessing.image import ImageDataGenerator"
   ]
  },
  {
   "cell_type": "code",
   "execution_count": 2,
   "id": "6d15e489",
   "metadata": {},
   "outputs": [
    {
     "data": {
      "text/plain": [
       "('tmp/happy-or-sad.zip', <http.client.HTTPMessage at 0x25046866e60>)"
      ]
     },
     "execution_count": 2,
     "metadata": {},
     "output_type": "execute_result"
    }
   ],
   "source": [
    "_TRAIN_URL = \"https://storage.googleapis.com/learning-datasets/happy-or-sad.zip\"\n",
    "urllib.request.urlretrieve(_TRAIN_URL, 'tmp/happy-or-sad.zip')"
   ]
  },
  {
   "cell_type": "code",
   "execution_count": 3,
   "id": "7d76da24",
   "metadata": {},
   "outputs": [],
   "source": [
    "# 압축해제\n",
    "local_zip = 'tmp/happy-or-sad.zip'\n",
    "zip_ref = zipfile.ZipFile(local_zip,'r')\n",
    "zip_ref.extractall('tmp/')\n",
    "zip_ref.close()"
   ]
  },
  {
   "cell_type": "code",
   "execution_count": null,
   "id": "47f947e9",
   "metadata": {},
   "outputs": [],
   "source": [
    "# 이미지 데이터 경로 설정\n",
    "import os\n",
    "\n",
    "train_happy_dir = os.path.join('tmp/happy')\n",
    "train_sad_dir = os.path.join('tmp/sad')\n",
    "\n",
    "validation_haapy_dir = os.path.join('tmp')"
   ]
  }
 ],
 "metadata": {
  "kernelspec": {
   "display_name": "Python 3 (ipykernel)",
   "language": "python",
   "name": "python3"
  },
  "language_info": {
   "codemirror_mode": {
    "name": "ipython",
    "version": 3
   },
   "file_extension": ".py",
   "mimetype": "text/x-python",
   "name": "python",
   "nbconvert_exporter": "python",
   "pygments_lexer": "ipython3",
   "version": "3.10.9"
  }
 },
 "nbformat": 4,
 "nbformat_minor": 5
}
